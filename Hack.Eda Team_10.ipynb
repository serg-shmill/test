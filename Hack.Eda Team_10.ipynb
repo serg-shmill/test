{
 "cells": [
  {
   "cell_type": "code",
   "execution_count": 1775,
   "metadata": {},
   "outputs": [],
   "source": [
    "import pandas as pd\n",
    "import matplotlib.pyplot as plt\n",
    "import seaborn as sns\n",
    "import numpy as np\n",
    "from sklearn.linear_model import LogisticRegression"
   ]
  },
  {
   "cell_type": "code",
   "execution_count": 1776,
   "metadata": {},
   "outputs": [],
   "source": [
    "df = pd.read_excel('yandex_hack.xlsx')"
   ]
  },
  {
   "cell_type": "markdown",
   "metadata": {},
   "source": [
    "# 1. Просмотрим данные"
   ]
  },
  {
   "cell_type": "code",
   "execution_count": 1777,
   "metadata": {},
   "outputs": [
    {
     "data": {
      "text/html": [
       "<div>\n",
       "<style scoped>\n",
       "    .dataframe tbody tr th:only-of-type {\n",
       "        vertical-align: middle;\n",
       "    }\n",
       "\n",
       "    .dataframe tbody tr th {\n",
       "        vertical-align: top;\n",
       "    }\n",
       "\n",
       "    .dataframe thead th {\n",
       "        text-align: right;\n",
       "    }\n",
       "</style>\n",
       "<table border=\"1\" class=\"dataframe\">\n",
       "  <thead>\n",
       "    <tr style=\"text-align: right;\">\n",
       "      <th></th>\n",
       "      <th>order_created_datetime</th>\n",
       "      <th>brand_name</th>\n",
       "      <th>rest_id</th>\n",
       "      <th>batched_with_order_id</th>\n",
       "      <th>order_id</th>\n",
       "      <th>first_in_multiorder_flg</th>\n",
       "      <th>courier_id</th>\n",
       "      <th>order_items_cnt</th>\n",
       "      <th>city</th>\n",
       "    </tr>\n",
       "  </thead>\n",
       "  <tbody>\n",
       "    <tr>\n",
       "      <td>0</td>\n",
       "      <td>2015-09-15 21:08:43.000000</td>\n",
       "      <td>B</td>\n",
       "      <td>7cc98331ddb8ccffe464455f3df763d9</td>\n",
       "      <td>NaN</td>\n",
       "      <td>0b6f25c79b35fd1e6d28d845b7ee511d</td>\n",
       "      <td>NaN</td>\n",
       "      <td>3f1b96f620988a92d3409ea05e87bd36</td>\n",
       "      <td>3</td>\n",
       "      <td>c6fbacc5cab7e134c9db2a4bbfcc5b64</td>\n",
       "    </tr>\n",
       "    <tr>\n",
       "      <td>1</td>\n",
       "      <td>2015-09-13 18:40:12.000000</td>\n",
       "      <td>A</td>\n",
       "      <td>9b73035bb90cd7de4b9c1ff01e44f178</td>\n",
       "      <td>NaN</td>\n",
       "      <td>793f2fa9aa3d52d2da05caa3c30cb77e</td>\n",
       "      <td>NaN</td>\n",
       "      <td>8ed37467dc9b257b3b3bdc1bfebd9b28</td>\n",
       "      <td>8</td>\n",
       "      <td>e6705560085199e9674cd721ee844d0d</td>\n",
       "    </tr>\n",
       "    <tr>\n",
       "      <td>2</td>\n",
       "      <td>2015-09-14 01:52:40.000000</td>\n",
       "      <td>A</td>\n",
       "      <td>9b73035bb90cd7de4b9c1ff01e44f178</td>\n",
       "      <td>NaN</td>\n",
       "      <td>b6c5ec927a3e314b0900c103a0cd68fa</td>\n",
       "      <td>NaN</td>\n",
       "      <td>5b17547f825d9cf35c7853621dd842f8</td>\n",
       "      <td>1</td>\n",
       "      <td>e6705560085199e9674cd721ee844d0d</td>\n",
       "    </tr>\n",
       "    <tr>\n",
       "      <td>3</td>\n",
       "      <td>2015-09-13 17:23:52.000000</td>\n",
       "      <td>B</td>\n",
       "      <td>7cc98331ddb8ccffe464455f3df763d9</td>\n",
       "      <td>NaN</td>\n",
       "      <td>5dc658f0928569dbefac74c9f311031c</td>\n",
       "      <td>NaN</td>\n",
       "      <td>81647a72700bd46635d9606082360cc8</td>\n",
       "      <td>6</td>\n",
       "      <td>c6fbacc5cab7e134c9db2a4bbfcc5b64</td>\n",
       "    </tr>\n",
       "    <tr>\n",
       "      <td>4</td>\n",
       "      <td>2015-09-13 11:15:05.000000</td>\n",
       "      <td>B</td>\n",
       "      <td>7cc98331ddb8ccffe464455f3df763d9</td>\n",
       "      <td>NaN</td>\n",
       "      <td>3da09410aeab781baf4b7039fc9b125c</td>\n",
       "      <td>NaN</td>\n",
       "      <td>065c18216b6d3369d4cc36418c6e80f2</td>\n",
       "      <td>7</td>\n",
       "      <td>c6fbacc5cab7e134c9db2a4bbfcc5b64</td>\n",
       "    </tr>\n",
       "  </tbody>\n",
       "</table>\n",
       "</div>"
      ],
      "text/plain": [
       "       order_created_datetime brand_name                           rest_id  \\\n",
       "0  2015-09-15 21:08:43.000000          B  7cc98331ddb8ccffe464455f3df763d9   \n",
       "1  2015-09-13 18:40:12.000000          A  9b73035bb90cd7de4b9c1ff01e44f178   \n",
       "2  2015-09-14 01:52:40.000000          A  9b73035bb90cd7de4b9c1ff01e44f178   \n",
       "3  2015-09-13 17:23:52.000000          B  7cc98331ddb8ccffe464455f3df763d9   \n",
       "4  2015-09-13 11:15:05.000000          B  7cc98331ddb8ccffe464455f3df763d9   \n",
       "\n",
       "  batched_with_order_id                          order_id  \\\n",
       "0                   NaN  0b6f25c79b35fd1e6d28d845b7ee511d   \n",
       "1                   NaN  793f2fa9aa3d52d2da05caa3c30cb77e   \n",
       "2                   NaN  b6c5ec927a3e314b0900c103a0cd68fa   \n",
       "3                   NaN  5dc658f0928569dbefac74c9f311031c   \n",
       "4                   NaN  3da09410aeab781baf4b7039fc9b125c   \n",
       "\n",
       "   first_in_multiorder_flg                        courier_id  order_items_cnt  \\\n",
       "0                      NaN  3f1b96f620988a92d3409ea05e87bd36                3   \n",
       "1                      NaN  8ed37467dc9b257b3b3bdc1bfebd9b28                8   \n",
       "2                      NaN  5b17547f825d9cf35c7853621dd842f8                1   \n",
       "3                      NaN  81647a72700bd46635d9606082360cc8                6   \n",
       "4                      NaN  065c18216b6d3369d4cc36418c6e80f2                7   \n",
       "\n",
       "                               city  \n",
       "0  c6fbacc5cab7e134c9db2a4bbfcc5b64  \n",
       "1  e6705560085199e9674cd721ee844d0d  \n",
       "2  e6705560085199e9674cd721ee844d0d  \n",
       "3  c6fbacc5cab7e134c9db2a4bbfcc5b64  \n",
       "4  c6fbacc5cab7e134c9db2a4bbfcc5b64  "
      ]
     },
     "execution_count": 1777,
     "metadata": {},
     "output_type": "execute_result"
    }
   ],
   "source": [
    "df.head()"
   ]
  },
  {
   "cell_type": "code",
   "execution_count": 1778,
   "metadata": {},
   "outputs": [],
   "source": [
    "# переведем время в формат datetime64 и выделим день и час заказа \n",
    "\n",
    "df['order_created_datetime'] = pd.to_datetime(df['order_created_datetime'], format=\"%Y-%m-%d %H:%M:%S\")\n",
    "\n",
    "df['day'] = df['order_created_datetime'].dt.day\n",
    "\n",
    "df['hour'] = df['order_created_datetime'].dt.hour"
   ]
  },
  {
   "cell_type": "code",
   "execution_count": 1779,
   "metadata": {},
   "outputs": [
    {
     "name": "stdout",
     "output_type": "stream",
     "text": [
      "<class 'pandas.core.frame.DataFrame'>\n",
      "RangeIndex: 66464 entries, 0 to 66463\n",
      "Data columns (total 11 columns):\n",
      "order_created_datetime     66464 non-null datetime64[ns]\n",
      "brand_name                 66464 non-null object\n",
      "rest_id                    66464 non-null object\n",
      "batched_with_order_id      442 non-null object\n",
      "order_id                   66464 non-null object\n",
      "first_in_multiorder_flg    442 non-null float64\n",
      "courier_id                 66202 non-null object\n",
      "order_items_cnt            66464 non-null int64\n",
      "city                       66464 non-null object\n",
      "day                        66464 non-null int64\n",
      "hour                       66464 non-null int64\n",
      "dtypes: datetime64[ns](1), float64(1), int64(3), object(6)\n",
      "memory usage: 5.6+ MB\n"
     ]
    }
   ],
   "source": [
    "df.info()"
   ]
  },
  {
   "cell_type": "markdown",
   "metadata": {},
   "source": [
    "Выводы\n",
    "------\n",
    "\n",
    "1. Есть пропуски в столбце courier_id. \n",
    "2. Есть пропуски в столбцах batched_with_order_id и first_in_multiorder_flg. Пропуски свидетельствует для группы рестаранов А то, что мультизаказов нет. Для группы рестаранов В необходимо дополнительно изучить."
   ]
  },
  {
   "cell_type": "code",
   "execution_count": 1780,
   "metadata": {},
   "outputs": [],
   "source": [
    "# выделим рестораны бренда А\n",
    "\n",
    "dfA = df[df.brand_name == 'A']"
   ]
  },
  {
   "cell_type": "code",
   "execution_count": 1781,
   "metadata": {},
   "outputs": [
    {
     "name": "stdout",
     "output_type": "stream",
     "text": [
      "<class 'pandas.core.frame.DataFrame'>\n",
      "Int64Index: 9629 entries, 1 to 66463\n",
      "Data columns (total 11 columns):\n",
      "order_created_datetime     9629 non-null datetime64[ns]\n",
      "brand_name                 9629 non-null object\n",
      "rest_id                    9629 non-null object\n",
      "batched_with_order_id      442 non-null object\n",
      "order_id                   9629 non-null object\n",
      "first_in_multiorder_flg    442 non-null float64\n",
      "courier_id                 9437 non-null object\n",
      "order_items_cnt            9629 non-null int64\n",
      "city                       9629 non-null object\n",
      "day                        9629 non-null int64\n",
      "hour                       9629 non-null int64\n",
      "dtypes: datetime64[ns](1), float64(1), int64(3), object(6)\n",
      "memory usage: 902.7+ KB\n"
     ]
    }
   ],
   "source": [
    "dfA.info()"
   ]
  },
  {
   "cell_type": "code",
   "execution_count": 1782,
   "metadata": {},
   "outputs": [
    {
     "data": {
      "text/html": [
       "<div>\n",
       "<style scoped>\n",
       "    .dataframe tbody tr th:only-of-type {\n",
       "        vertical-align: middle;\n",
       "    }\n",
       "\n",
       "    .dataframe tbody tr th {\n",
       "        vertical-align: top;\n",
       "    }\n",
       "\n",
       "    .dataframe thead th {\n",
       "        text-align: right;\n",
       "    }\n",
       "</style>\n",
       "<table border=\"1\" class=\"dataframe\">\n",
       "  <thead>\n",
       "    <tr style=\"text-align: right;\">\n",
       "      <th></th>\n",
       "      <th>first_in_multiorder_flg</th>\n",
       "      <th>order_items_cnt</th>\n",
       "      <th>day</th>\n",
       "      <th>hour</th>\n",
       "    </tr>\n",
       "  </thead>\n",
       "  <tbody>\n",
       "    <tr>\n",
       "      <td>count</td>\n",
       "      <td>442.000000</td>\n",
       "      <td>9629.00000</td>\n",
       "      <td>9629.000000</td>\n",
       "      <td>9629.000000</td>\n",
       "    </tr>\n",
       "    <tr>\n",
       "      <td>mean</td>\n",
       "      <td>0.500000</td>\n",
       "      <td>4.86333</td>\n",
       "      <td>14.002492</td>\n",
       "      <td>14.861460</td>\n",
       "    </tr>\n",
       "    <tr>\n",
       "      <td>std</td>\n",
       "      <td>0.500567</td>\n",
       "      <td>2.86872</td>\n",
       "      <td>0.933382</td>\n",
       "      <td>4.611396</td>\n",
       "    </tr>\n",
       "    <tr>\n",
       "      <td>min</td>\n",
       "      <td>0.000000</td>\n",
       "      <td>1.00000</td>\n",
       "      <td>13.000000</td>\n",
       "      <td>0.000000</td>\n",
       "    </tr>\n",
       "    <tr>\n",
       "      <td>25%</td>\n",
       "      <td>0.000000</td>\n",
       "      <td>3.00000</td>\n",
       "      <td>13.000000</td>\n",
       "      <td>12.000000</td>\n",
       "    </tr>\n",
       "    <tr>\n",
       "      <td>50%</td>\n",
       "      <td>0.500000</td>\n",
       "      <td>4.00000</td>\n",
       "      <td>14.000000</td>\n",
       "      <td>15.000000</td>\n",
       "    </tr>\n",
       "    <tr>\n",
       "      <td>75%</td>\n",
       "      <td>1.000000</td>\n",
       "      <td>6.00000</td>\n",
       "      <td>15.000000</td>\n",
       "      <td>18.000000</td>\n",
       "    </tr>\n",
       "    <tr>\n",
       "      <td>max</td>\n",
       "      <td>1.000000</td>\n",
       "      <td>35.00000</td>\n",
       "      <td>16.000000</td>\n",
       "      <td>23.000000</td>\n",
       "    </tr>\n",
       "  </tbody>\n",
       "</table>\n",
       "</div>"
      ],
      "text/plain": [
       "       first_in_multiorder_flg  order_items_cnt          day         hour\n",
       "count               442.000000       9629.00000  9629.000000  9629.000000\n",
       "mean                  0.500000          4.86333    14.002492    14.861460\n",
       "std                   0.500567          2.86872     0.933382     4.611396\n",
       "min                   0.000000          1.00000    13.000000     0.000000\n",
       "25%                   0.000000          3.00000    13.000000    12.000000\n",
       "50%                   0.500000          4.00000    14.000000    15.000000\n",
       "75%                   1.000000          6.00000    15.000000    18.000000\n",
       "max                   1.000000         35.00000    16.000000    23.000000"
      ]
     },
     "execution_count": 1782,
     "metadata": {},
     "output_type": "execute_result"
    }
   ],
   "source": [
    "dfA.describe()"
   ]
  },
  {
   "cell_type": "code",
   "execution_count": 1783,
   "metadata": {},
   "outputs": [
    {
     "data": {
      "text/html": [
       "<div>\n",
       "<style scoped>\n",
       "    .dataframe tbody tr th:only-of-type {\n",
       "        vertical-align: middle;\n",
       "    }\n",
       "\n",
       "    .dataframe tbody tr th {\n",
       "        vertical-align: top;\n",
       "    }\n",
       "\n",
       "    .dataframe thead th {\n",
       "        text-align: right;\n",
       "    }\n",
       "</style>\n",
       "<table border=\"1\" class=\"dataframe\">\n",
       "  <thead>\n",
       "    <tr style=\"text-align: right;\">\n",
       "      <th></th>\n",
       "      <th>brand_name</th>\n",
       "      <th>rest_id</th>\n",
       "      <th>batched_with_order_id</th>\n",
       "      <th>order_id</th>\n",
       "      <th>courier_id</th>\n",
       "      <th>city</th>\n",
       "    </tr>\n",
       "  </thead>\n",
       "  <tbody>\n",
       "    <tr>\n",
       "      <td>count</td>\n",
       "      <td>9629</td>\n",
       "      <td>9629</td>\n",
       "      <td>442</td>\n",
       "      <td>9629</td>\n",
       "      <td>9437</td>\n",
       "      <td>9629</td>\n",
       "    </tr>\n",
       "    <tr>\n",
       "      <td>unique</td>\n",
       "      <td>1</td>\n",
       "      <td>518</td>\n",
       "      <td>442</td>\n",
       "      <td>9629</td>\n",
       "      <td>4034</td>\n",
       "      <td>30</td>\n",
       "    </tr>\n",
       "    <tr>\n",
       "      <td>top</td>\n",
       "      <td>A</td>\n",
       "      <td>9b73035bb90cd7de4b9c1ff01e44f178</td>\n",
       "      <td>384c618983509d6993a9c38327ab3ff7</td>\n",
       "      <td>39391b06846d043265c0b41536b0dead</td>\n",
       "      <td>5b17547f825d9cf35c7853621dd842f8</td>\n",
       "      <td>e6705560085199e9674cd721ee844d0d</td>\n",
       "    </tr>\n",
       "    <tr>\n",
       "      <td>freq</td>\n",
       "      <td>9629</td>\n",
       "      <td>107</td>\n",
       "      <td>1</td>\n",
       "      <td>1</td>\n",
       "      <td>643</td>\n",
       "      <td>4878</td>\n",
       "    </tr>\n",
       "  </tbody>\n",
       "</table>\n",
       "</div>"
      ],
      "text/plain": [
       "       brand_name                           rest_id  \\\n",
       "count        9629                              9629   \n",
       "unique          1                               518   \n",
       "top             A  9b73035bb90cd7de4b9c1ff01e44f178   \n",
       "freq         9629                               107   \n",
       "\n",
       "                   batched_with_order_id                          order_id  \\\n",
       "count                                442                              9629   \n",
       "unique                               442                              9629   \n",
       "top     384c618983509d6993a9c38327ab3ff7  39391b06846d043265c0b41536b0dead   \n",
       "freq                                   1                                 1   \n",
       "\n",
       "                              courier_id                              city  \n",
       "count                               9437                              9629  \n",
       "unique                              4034                                30  \n",
       "top     5b17547f825d9cf35c7853621dd842f8  e6705560085199e9674cd721ee844d0d  \n",
       "freq                                 643                              4878  "
      ]
     },
     "execution_count": 1783,
     "metadata": {},
     "output_type": "execute_result"
    }
   ],
   "source": [
    "dfA.describe(include=['O'])"
   ]
  },
  {
   "cell_type": "markdown",
   "metadata": {},
   "source": [
    "# 2. Просмотрим города, в которых есть рестораны А"
   ]
  },
  {
   "cell_type": "code",
   "execution_count": 1784,
   "metadata": {},
   "outputs": [],
   "source": [
    "cityA = dfA.city.value_counts()"
   ]
  },
  {
   "cell_type": "code",
   "execution_count": 1785,
   "metadata": {},
   "outputs": [
    {
     "name": "stdout",
     "output_type": "stream",
     "text": [
      "City  e6705560085199e9674cd721ee844d0d\n",
      "<class 'pandas.core.frame.DataFrame'>\n",
      "Int64Index: 4878 entries, 1 to 66463\n",
      "Data columns (total 11 columns):\n",
      "order_created_datetime     4878 non-null datetime64[ns]\n",
      "brand_name                 4878 non-null object\n",
      "rest_id                    4878 non-null object\n",
      "batched_with_order_id      442 non-null object\n",
      "order_id                   4878 non-null object\n",
      "first_in_multiorder_flg    442 non-null float64\n",
      "courier_id                 4858 non-null object\n",
      "order_items_cnt            4878 non-null int64\n",
      "city                       4878 non-null object\n",
      "day                        4878 non-null int64\n",
      "hour                       4878 non-null int64\n",
      "dtypes: datetime64[ns](1), float64(1), int64(3), object(6)\n",
      "memory usage: 457.3+ KB\n",
      "\n",
      "City  9a8fe36e44485af8b9e4b6352043555d\n",
      "<class 'pandas.core.frame.DataFrame'>\n",
      "Int64Index: 782 entries, 440 to 66342\n",
      "Data columns (total 11 columns):\n",
      "order_created_datetime     782 non-null datetime64[ns]\n",
      "brand_name                 782 non-null object\n",
      "rest_id                    782 non-null object\n",
      "batched_with_order_id      0 non-null object\n",
      "order_id                   782 non-null object\n",
      "first_in_multiorder_flg    0 non-null float64\n",
      "courier_id                 771 non-null object\n",
      "order_items_cnt            782 non-null int64\n",
      "city                       782 non-null object\n",
      "day                        782 non-null int64\n",
      "hour                       782 non-null int64\n",
      "dtypes: datetime64[ns](1), float64(1), int64(3), object(6)\n",
      "memory usage: 73.3+ KB\n",
      "\n",
      "City  29b5d0e91de8f84cbb829977dfb8f4a3\n",
      "<class 'pandas.core.frame.DataFrame'>\n",
      "Int64Index: 616 entries, 147 to 66034\n",
      "Data columns (total 11 columns):\n",
      "order_created_datetime     616 non-null datetime64[ns]\n",
      "brand_name                 616 non-null object\n",
      "rest_id                    616 non-null object\n",
      "batched_with_order_id      0 non-null object\n",
      "order_id                   616 non-null object\n",
      "first_in_multiorder_flg    0 non-null float64\n",
      "courier_id                 611 non-null object\n",
      "order_items_cnt            616 non-null int64\n",
      "city                       616 non-null object\n",
      "day                        616 non-null int64\n",
      "hour                       616 non-null int64\n",
      "dtypes: datetime64[ns](1), float64(1), int64(3), object(6)\n",
      "memory usage: 57.8+ KB\n",
      "\n",
      "City  9d8f3a9f71a624b184f5a6e053b2c9b6\n",
      "<class 'pandas.core.frame.DataFrame'>\n",
      "Int64Index: 442 entries, 689 to 60111\n",
      "Data columns (total 11 columns):\n",
      "order_created_datetime     442 non-null datetime64[ns]\n",
      "brand_name                 442 non-null object\n",
      "rest_id                    442 non-null object\n",
      "batched_with_order_id      0 non-null object\n",
      "order_id                   442 non-null object\n",
      "first_in_multiorder_flg    0 non-null float64\n",
      "courier_id                 439 non-null object\n",
      "order_items_cnt            442 non-null int64\n",
      "city                       442 non-null object\n",
      "day                        442 non-null int64\n",
      "hour                       442 non-null int64\n",
      "dtypes: datetime64[ns](1), float64(1), int64(3), object(6)\n",
      "memory usage: 41.4+ KB\n",
      "\n",
      "City  ea9f1e9302826b93f5ac1898375fbc38\n",
      "<class 'pandas.core.frame.DataFrame'>\n",
      "Int64Index: 432 entries, 376 to 65287\n",
      "Data columns (total 11 columns):\n",
      "order_created_datetime     432 non-null datetime64[ns]\n",
      "brand_name                 432 non-null object\n",
      "rest_id                    432 non-null object\n",
      "batched_with_order_id      0 non-null object\n",
      "order_id                   432 non-null object\n",
      "first_in_multiorder_flg    0 non-null float64\n",
      "courier_id                 424 non-null object\n",
      "order_items_cnt            432 non-null int64\n",
      "city                       432 non-null object\n",
      "day                        432 non-null int64\n",
      "hour                       432 non-null int64\n",
      "dtypes: datetime64[ns](1), float64(1), int64(3), object(6)\n",
      "memory usage: 40.5+ KB\n",
      "\n",
      "City  c347f80a551e12a7cda160177741c051\n",
      "<class 'pandas.core.frame.DataFrame'>\n",
      "Int64Index: 387 entries, 272 to 66430\n",
      "Data columns (total 11 columns):\n",
      "order_created_datetime     387 non-null datetime64[ns]\n",
      "brand_name                 387 non-null object\n",
      "rest_id                    387 non-null object\n",
      "batched_with_order_id      0 non-null object\n",
      "order_id                   387 non-null object\n",
      "first_in_multiorder_flg    0 non-null float64\n",
      "courier_id                 377 non-null object\n",
      "order_items_cnt            387 non-null int64\n",
      "city                       387 non-null object\n",
      "day                        387 non-null int64\n",
      "hour                       387 non-null int64\n",
      "dtypes: datetime64[ns](1), float64(1), int64(3), object(6)\n",
      "memory usage: 36.3+ KB\n",
      "\n",
      "City  4805ee58a2d975322bda9710e2116a17\n",
      "<class 'pandas.core.frame.DataFrame'>\n",
      "Int64Index: 270 entries, 1499 to 64076\n",
      "Data columns (total 11 columns):\n",
      "order_created_datetime     270 non-null datetime64[ns]\n",
      "brand_name                 270 non-null object\n",
      "rest_id                    270 non-null object\n",
      "batched_with_order_id      0 non-null object\n",
      "order_id                   270 non-null object\n",
      "first_in_multiorder_flg    0 non-null float64\n",
      "courier_id                 270 non-null object\n",
      "order_items_cnt            270 non-null int64\n",
      "city                       270 non-null object\n",
      "day                        270 non-null int64\n",
      "hour                       270 non-null int64\n",
      "dtypes: datetime64[ns](1), float64(1), int64(3), object(6)\n",
      "memory usage: 25.3+ KB\n",
      "\n",
      "City  b6a1beaea9592d98e402ec9af5c4f507\n",
      "<class 'pandas.core.frame.DataFrame'>\n",
      "Int64Index: 254 entries, 838 to 63648\n",
      "Data columns (total 11 columns):\n",
      "order_created_datetime     254 non-null datetime64[ns]\n",
      "brand_name                 254 non-null object\n",
      "rest_id                    254 non-null object\n",
      "batched_with_order_id      0 non-null object\n",
      "order_id                   254 non-null object\n",
      "first_in_multiorder_flg    0 non-null float64\n",
      "courier_id                 252 non-null object\n",
      "order_items_cnt            254 non-null int64\n",
      "city                       254 non-null object\n",
      "day                        254 non-null int64\n",
      "hour                       254 non-null int64\n",
      "dtypes: datetime64[ns](1), float64(1), int64(3), object(6)\n",
      "memory usage: 23.8+ KB\n",
      "\n",
      "City  4114b3ee75b5782f051d1ba03f0aed6f\n",
      "<class 'pandas.core.frame.DataFrame'>\n",
      "Int64Index: 247 entries, 273 to 66454\n",
      "Data columns (total 11 columns):\n",
      "order_created_datetime     247 non-null datetime64[ns]\n",
      "brand_name                 247 non-null object\n",
      "rest_id                    247 non-null object\n",
      "batched_with_order_id      0 non-null object\n",
      "order_id                   247 non-null object\n",
      "first_in_multiorder_flg    0 non-null float64\n",
      "courier_id                 246 non-null object\n",
      "order_items_cnt            247 non-null int64\n",
      "city                       247 non-null object\n",
      "day                        247 non-null int64\n",
      "hour                       247 non-null int64\n",
      "dtypes: datetime64[ns](1), float64(1), int64(3), object(6)\n",
      "memory usage: 23.2+ KB\n",
      "\n",
      "City  feb10fbf40476b6ca4793a84b67011cf\n",
      "<class 'pandas.core.frame.DataFrame'>\n",
      "Int64Index: 208 entries, 22 to 64429\n",
      "Data columns (total 11 columns):\n",
      "order_created_datetime     208 non-null datetime64[ns]\n",
      "brand_name                 208 non-null object\n",
      "rest_id                    208 non-null object\n",
      "batched_with_order_id      0 non-null object\n",
      "order_id                   208 non-null object\n",
      "first_in_multiorder_flg    0 non-null float64\n",
      "courier_id                 207 non-null object\n",
      "order_items_cnt            208 non-null int64\n",
      "city                       208 non-null object\n",
      "day                        208 non-null int64\n",
      "hour                       208 non-null int64\n",
      "dtypes: datetime64[ns](1), float64(1), int64(3), object(6)\n",
      "memory usage: 19.5+ KB\n",
      "\n",
      "City  102f53437938e3d8dfa371c17f44e269\n",
      "<class 'pandas.core.frame.DataFrame'>\n",
      "Int64Index: 192 entries, 395 to 65979\n",
      "Data columns (total 11 columns):\n",
      "order_created_datetime     192 non-null datetime64[ns]\n",
      "brand_name                 192 non-null object\n",
      "rest_id                    192 non-null object\n",
      "batched_with_order_id      0 non-null object\n",
      "order_id                   192 non-null object\n",
      "first_in_multiorder_flg    0 non-null float64\n",
      "courier_id                 192 non-null object\n",
      "order_items_cnt            192 non-null int64\n",
      "city                       192 non-null object\n",
      "day                        192 non-null int64\n",
      "hour                       192 non-null int64\n",
      "dtypes: datetime64[ns](1), float64(1), int64(3), object(6)\n",
      "memory usage: 18.0+ KB\n",
      "\n",
      "City  5629a6369a8e0484e60de2b37766366c\n",
      "<class 'pandas.core.frame.DataFrame'>\n",
      "Int64Index: 173 entries, 657 to 66346\n",
      "Data columns (total 11 columns):\n",
      "order_created_datetime     173 non-null datetime64[ns]\n",
      "brand_name                 173 non-null object\n",
      "rest_id                    173 non-null object\n",
      "batched_with_order_id      0 non-null object\n",
      "order_id                   173 non-null object\n",
      "first_in_multiorder_flg    0 non-null float64\n",
      "courier_id                 169 non-null object\n",
      "order_items_cnt            173 non-null int64\n",
      "city                       173 non-null object\n",
      "day                        173 non-null int64\n",
      "hour                       173 non-null int64\n",
      "dtypes: datetime64[ns](1), float64(1), int64(3), object(6)\n",
      "memory usage: 16.2+ KB\n",
      "\n",
      "City  a1e7db4b260a90afc36b94a13218eeb5\n"
     ]
    },
    {
     "name": "stdout",
     "output_type": "stream",
     "text": [
      "<class 'pandas.core.frame.DataFrame'>\n",
      "Int64Index: 127 entries, 347 to 65724\n",
      "Data columns (total 11 columns):\n",
      "order_created_datetime     127 non-null datetime64[ns]\n",
      "brand_name                 127 non-null object\n",
      "rest_id                    127 non-null object\n",
      "batched_with_order_id      0 non-null object\n",
      "order_id                   127 non-null object\n",
      "first_in_multiorder_flg    0 non-null float64\n",
      "courier_id                 124 non-null object\n",
      "order_items_cnt            127 non-null int64\n",
      "city                       127 non-null object\n",
      "day                        127 non-null int64\n",
      "hour                       127 non-null int64\n",
      "dtypes: datetime64[ns](1), float64(1), int64(3), object(6)\n",
      "memory usage: 11.9+ KB\n",
      "\n",
      "City  1dcf79e0f4f3748ef858d6c1001929ea\n",
      "<class 'pandas.core.frame.DataFrame'>\n",
      "Int64Index: 113 entries, 1661 to 66202\n",
      "Data columns (total 11 columns):\n",
      "order_created_datetime     113 non-null datetime64[ns]\n",
      "brand_name                 113 non-null object\n",
      "rest_id                    113 non-null object\n",
      "batched_with_order_id      0 non-null object\n",
      "order_id                   113 non-null object\n",
      "first_in_multiorder_flg    0 non-null float64\n",
      "courier_id                 100 non-null object\n",
      "order_items_cnt            113 non-null int64\n",
      "city                       113 non-null object\n",
      "day                        113 non-null int64\n",
      "hour                       113 non-null int64\n",
      "dtypes: datetime64[ns](1), float64(1), int64(3), object(6)\n",
      "memory usage: 10.6+ KB\n",
      "\n",
      "City  8ef4fd9e60ef979b27a7ce3487dce62d\n",
      "<class 'pandas.core.frame.DataFrame'>\n",
      "Int64Index: 91 entries, 156 to 60453\n",
      "Data columns (total 11 columns):\n",
      "order_created_datetime     91 non-null datetime64[ns]\n",
      "brand_name                 91 non-null object\n",
      "rest_id                    91 non-null object\n",
      "batched_with_order_id      0 non-null object\n",
      "order_id                   91 non-null object\n",
      "first_in_multiorder_flg    0 non-null float64\n",
      "courier_id                 51 non-null object\n",
      "order_items_cnt            91 non-null int64\n",
      "city                       91 non-null object\n",
      "day                        91 non-null int64\n",
      "hour                       91 non-null int64\n",
      "dtypes: datetime64[ns](1), float64(1), int64(3), object(6)\n",
      "memory usage: 8.5+ KB\n",
      "\n",
      "City  e3ca681c859b7d410ee6089a596dd5f0\n",
      "<class 'pandas.core.frame.DataFrame'>\n",
      "Int64Index: 76 entries, 107 to 65100\n",
      "Data columns (total 11 columns):\n",
      "order_created_datetime     76 non-null datetime64[ns]\n",
      "brand_name                 76 non-null object\n",
      "rest_id                    76 non-null object\n",
      "batched_with_order_id      0 non-null object\n",
      "order_id                   76 non-null object\n",
      "first_in_multiorder_flg    0 non-null float64\n",
      "courier_id                 68 non-null object\n",
      "order_items_cnt            76 non-null int64\n",
      "city                       76 non-null object\n",
      "day                        76 non-null int64\n",
      "hour                       76 non-null int64\n",
      "dtypes: datetime64[ns](1), float64(1), int64(3), object(6)\n",
      "memory usage: 7.1+ KB\n",
      "\n",
      "City  3085aa08364fe846720b78bb9c963672\n",
      "<class 'pandas.core.frame.DataFrame'>\n",
      "Int64Index: 67 entries, 903 to 66088\n",
      "Data columns (total 11 columns):\n",
      "order_created_datetime     67 non-null datetime64[ns]\n",
      "brand_name                 67 non-null object\n",
      "rest_id                    67 non-null object\n",
      "batched_with_order_id      0 non-null object\n",
      "order_id                   67 non-null object\n",
      "first_in_multiorder_flg    0 non-null float64\n",
      "courier_id                 67 non-null object\n",
      "order_items_cnt            67 non-null int64\n",
      "city                       67 non-null object\n",
      "day                        67 non-null int64\n",
      "hour                       67 non-null int64\n",
      "dtypes: datetime64[ns](1), float64(1), int64(3), object(6)\n",
      "memory usage: 6.3+ KB\n",
      "\n",
      "City  baea4e07b211eb4a1c69e637f7a948fd\n",
      "<class 'pandas.core.frame.DataFrame'>\n",
      "Int64Index: 61 entries, 638 to 63819\n",
      "Data columns (total 11 columns):\n",
      "order_created_datetime     61 non-null datetime64[ns]\n",
      "brand_name                 61 non-null object\n",
      "rest_id                    61 non-null object\n",
      "batched_with_order_id      0 non-null object\n",
      "order_id                   61 non-null object\n",
      "first_in_multiorder_flg    0 non-null float64\n",
      "courier_id                 61 non-null object\n",
      "order_items_cnt            61 non-null int64\n",
      "city                       61 non-null object\n",
      "day                        61 non-null int64\n",
      "hour                       61 non-null int64\n",
      "dtypes: datetime64[ns](1), float64(1), int64(3), object(6)\n",
      "memory usage: 5.7+ KB\n",
      "\n",
      "City  646ecb5e1bf387793d20606d21781835\n",
      "<class 'pandas.core.frame.DataFrame'>\n",
      "Int64Index: 60 entries, 617 to 61234\n",
      "Data columns (total 11 columns):\n",
      "order_created_datetime     60 non-null datetime64[ns]\n",
      "brand_name                 60 non-null object\n",
      "rest_id                    60 non-null object\n",
      "batched_with_order_id      0 non-null object\n",
      "order_id                   60 non-null object\n",
      "first_in_multiorder_flg    0 non-null float64\n",
      "courier_id                 60 non-null object\n",
      "order_items_cnt            60 non-null int64\n",
      "city                       60 non-null object\n",
      "day                        60 non-null int64\n",
      "hour                       60 non-null int64\n",
      "dtypes: datetime64[ns](1), float64(1), int64(3), object(6)\n",
      "memory usage: 5.6+ KB\n",
      "\n",
      "City  49777b637e0faf66a2634e3d0d3e3530\n",
      "<class 'pandas.core.frame.DataFrame'>\n",
      "Int64Index: 42 entries, 3102 to 56490\n",
      "Data columns (total 11 columns):\n",
      "order_created_datetime     42 non-null datetime64[ns]\n",
      "brand_name                 42 non-null object\n",
      "rest_id                    42 non-null object\n",
      "batched_with_order_id      0 non-null object\n",
      "order_id                   42 non-null object\n",
      "first_in_multiorder_flg    0 non-null float64\n",
      "courier_id                 12 non-null object\n",
      "order_items_cnt            42 non-null int64\n",
      "city                       42 non-null object\n",
      "day                        42 non-null int64\n",
      "hour                       42 non-null int64\n",
      "dtypes: datetime64[ns](1), float64(1), int64(3), object(6)\n",
      "memory usage: 3.9+ KB\n",
      "\n",
      "City  946eb5ac8ebfbecac00621b1a5b37cae\n",
      "<class 'pandas.core.frame.DataFrame'>\n",
      "Int64Index: 25 entries, 1694 to 63675\n",
      "Data columns (total 11 columns):\n",
      "order_created_datetime     25 non-null datetime64[ns]\n",
      "brand_name                 25 non-null object\n",
      "rest_id                    25 non-null object\n",
      "batched_with_order_id      0 non-null object\n",
      "order_id                   25 non-null object\n",
      "first_in_multiorder_flg    0 non-null float64\n",
      "courier_id                 8 non-null object\n",
      "order_items_cnt            25 non-null int64\n",
      "city                       25 non-null object\n",
      "day                        25 non-null int64\n",
      "hour                       25 non-null int64\n",
      "dtypes: datetime64[ns](1), float64(1), int64(3), object(6)\n",
      "memory usage: 2.3+ KB\n",
      "\n",
      "City  7a38e19e2f0f25df218c35a8e4cde6e4\n",
      "<class 'pandas.core.frame.DataFrame'>\n",
      "Int64Index: 22 entries, 821 to 43473\n",
      "Data columns (total 11 columns):\n",
      "order_created_datetime     22 non-null datetime64[ns]\n",
      "brand_name                 22 non-null object\n",
      "rest_id                    22 non-null object\n",
      "batched_with_order_id      0 non-null object\n",
      "order_id                   22 non-null object\n",
      "first_in_multiorder_flg    0 non-null float64\n",
      "courier_id                 22 non-null object\n",
      "order_items_cnt            22 non-null int64\n",
      "city                       22 non-null object\n",
      "day                        22 non-null int64\n",
      "hour                       22 non-null int64\n",
      "dtypes: datetime64[ns](1), float64(1), int64(3), object(6)\n",
      "memory usage: 2.1+ KB\n",
      "\n",
      "City  f18b7afd4c4ff44e0d1b640e4a3a4ea9\n",
      "<class 'pandas.core.frame.DataFrame'>\n",
      "Int64Index: 15 entries, 8546 to 32722\n",
      "Data columns (total 11 columns):\n",
      "order_created_datetime     15 non-null datetime64[ns]\n",
      "brand_name                 15 non-null object\n",
      "rest_id                    15 non-null object\n",
      "batched_with_order_id      0 non-null object\n",
      "order_id                   15 non-null object\n",
      "first_in_multiorder_flg    0 non-null float64\n",
      "courier_id                 1 non-null object\n",
      "order_items_cnt            15 non-null int64\n",
      "city                       15 non-null object\n",
      "day                        15 non-null int64\n",
      "hour                       15 non-null int64\n",
      "dtypes: datetime64[ns](1), float64(1), int64(3), object(6)\n",
      "memory usage: 1.4+ KB\n",
      "\n",
      "City  4b2d9ecd1983405fbada216dd6e144ae\n",
      "<class 'pandas.core.frame.DataFrame'>\n",
      "Int64Index: 13 entries, 18270 to 66328\n",
      "Data columns (total 11 columns):\n",
      "order_created_datetime     13 non-null datetime64[ns]\n",
      "brand_name                 13 non-null object\n",
      "rest_id                    13 non-null object\n",
      "batched_with_order_id      0 non-null object\n",
      "order_id                   13 non-null object\n",
      "first_in_multiorder_flg    0 non-null float64\n",
      "courier_id                 13 non-null object\n",
      "order_items_cnt            13 non-null int64\n",
      "city                       13 non-null object\n",
      "day                        13 non-null int64\n",
      "hour                       13 non-null int64\n",
      "dtypes: datetime64[ns](1), float64(1), int64(3), object(6)\n",
      "memory usage: 1.2+ KB\n",
      "\n",
      "City  93a65cf97280065f54f608e91fef1096\n",
      "<class 'pandas.core.frame.DataFrame'>\n",
      "Int64Index: 12 entries, 132 to 57994\n",
      "Data columns (total 11 columns):\n",
      "order_created_datetime     12 non-null datetime64[ns]\n",
      "brand_name                 12 non-null object\n",
      "rest_id                    12 non-null object\n",
      "batched_with_order_id      0 non-null object\n",
      "order_id                   12 non-null object\n",
      "first_in_multiorder_flg    0 non-null float64\n",
      "courier_id                 11 non-null object\n",
      "order_items_cnt            12 non-null int64\n",
      "city                       12 non-null object\n",
      "day                        12 non-null int64\n",
      "hour                       12 non-null int64\n",
      "dtypes: datetime64[ns](1), float64(1), int64(3), object(6)\n",
      "memory usage: 1.1+ KB\n",
      "\n",
      "City  6f356612ae0d6bb7fa2249968076da8c\n",
      "<class 'pandas.core.frame.DataFrame'>\n",
      "Int64Index: 10 entries, 49251 to 49808\n",
      "Data columns (total 11 columns):\n",
      "order_created_datetime     10 non-null datetime64[ns]\n",
      "brand_name                 10 non-null object\n",
      "rest_id                    10 non-null object\n",
      "batched_with_order_id      0 non-null object\n",
      "order_id                   10 non-null object\n",
      "first_in_multiorder_flg    0 non-null float64\n",
      "courier_id                 10 non-null object\n",
      "order_items_cnt            10 non-null int64\n",
      "city                       10 non-null object\n",
      "day                        10 non-null int64\n",
      "hour                       10 non-null int64\n",
      "dtypes: datetime64[ns](1), float64(1), int64(3), object(6)\n",
      "memory usage: 960.0+ bytes\n",
      "\n",
      "City  b95f5702f655dcd40d9ba2ede13ec202\n",
      "<class 'pandas.core.frame.DataFrame'>\n",
      "Int64Index: 5 entries, 1047 to 50595\n",
      "Data columns (total 11 columns):\n",
      "order_created_datetime     5 non-null datetime64[ns]\n",
      "brand_name                 5 non-null object\n",
      "rest_id                    5 non-null object\n",
      "batched_with_order_id      0 non-null object\n",
      "order_id                   5 non-null object\n",
      "first_in_multiorder_flg    0 non-null float64\n",
      "courier_id                 5 non-null object\n",
      "order_items_cnt            5 non-null int64\n",
      "city                       5 non-null object\n",
      "day                        5 non-null int64\n",
      "hour                       5 non-null int64\n",
      "dtypes: datetime64[ns](1), float64(1), int64(3), object(6)\n",
      "memory usage: 480.0+ bytes\n",
      "\n",
      "City  92de9bae40fb49c01f5c37ef71721a61\n",
      "<class 'pandas.core.frame.DataFrame'>\n",
      "Int64Index: 5 entries, 1799 to 64696\n",
      "Data columns (total 11 columns):\n",
      "order_created_datetime     5 non-null datetime64[ns]\n",
      "brand_name                 5 non-null object\n",
      "rest_id                    5 non-null object\n",
      "batched_with_order_id      0 non-null object\n",
      "order_id                   5 non-null object\n",
      "first_in_multiorder_flg    0 non-null float64\n",
      "courier_id                 5 non-null object\n",
      "order_items_cnt            5 non-null int64\n",
      "city                       5 non-null object\n",
      "day                        5 non-null int64\n",
      "hour                       5 non-null int64\n",
      "dtypes: datetime64[ns](1), float64(1), int64(3), object(6)\n",
      "memory usage: 480.0+ bytes\n",
      "\n",
      "City  86a9ddd7737eb63358e25007aa4c6343\n",
      "<class 'pandas.core.frame.DataFrame'>\n",
      "Int64Index: 3 entries, 10067 to 10205\n",
      "Data columns (total 11 columns):\n",
      "order_created_datetime     3 non-null datetime64[ns]\n",
      "brand_name                 3 non-null object\n",
      "rest_id                    3 non-null object\n",
      "batched_with_order_id      0 non-null object\n",
      "order_id                   3 non-null object\n",
      "first_in_multiorder_flg    0 non-null float64\n",
      "courier_id                 2 non-null object\n",
      "order_items_cnt            3 non-null int64\n",
      "city                       3 non-null object\n",
      "day                        3 non-null int64\n",
      "hour                       3 non-null int64\n",
      "dtypes: datetime64[ns](1), float64(1), int64(3), object(6)\n",
      "memory usage: 288.0+ bytes\n",
      "\n",
      "City  c6fbacc5cab7e134c9db2a4bbfcc5b64\n",
      "<class 'pandas.core.frame.DataFrame'>\n",
      "Int64Index: 1 entries, 48106 to 48106\n",
      "Data columns (total 11 columns):\n",
      "order_created_datetime     1 non-null datetime64[ns]\n",
      "brand_name                 1 non-null object\n",
      "rest_id                    1 non-null object\n",
      "batched_with_order_id      0 non-null object\n",
      "order_id                   1 non-null object\n",
      "first_in_multiorder_flg    0 non-null float64\n",
      "courier_id                 1 non-null object\n",
      "order_items_cnt            1 non-null int64\n",
      "city                       1 non-null object\n",
      "day                        1 non-null int64\n",
      "hour                       1 non-null int64\n",
      "dtypes: datetime64[ns](1), float64(1), int64(3), object(6)\n",
      "memory usage: 96.0+ bytes\n",
      "\n"
     ]
    }
   ],
   "source": [
    "# просмотрим как распределяются мультизаказы ресторанов бренда А в разрезе городов\n",
    "\n",
    "for city in cityA.index:\n",
    "    \n",
    "    print('City ', city)\n",
    "    dfA[dfA.city == city].info()\n",
    "    print()"
   ]
  },
  {
   "cell_type": "markdown",
   "metadata": {},
   "source": [
    "Вывод\n",
    "-----\n",
    "\n",
    " 1. Рестораны сети А расположены в городе e6705560085199e9674cd721ee844d0d есть мультидоставка"
   ]
  },
  {
   "cell_type": "code",
   "execution_count": 1786,
   "metadata": {},
   "outputs": [],
   "source": [
    "# создадим DF и просмотрим данные по размещению заказов ресторанов бренда А для города e6705560085199e9674cd721ee844d0d\n",
    "\n",
    "dfA = dfA[dfA.city == 'e6705560085199e9674cd721ee844d0d']"
   ]
  },
  {
   "cell_type": "code",
   "execution_count": 1787,
   "metadata": {},
   "outputs": [
    {
     "name": "stdout",
     "output_type": "stream",
     "text": [
      "<class 'pandas.core.frame.DataFrame'>\n",
      "Int64Index: 4878 entries, 1 to 66463\n",
      "Data columns (total 11 columns):\n",
      "order_created_datetime     4878 non-null datetime64[ns]\n",
      "brand_name                 4878 non-null object\n",
      "rest_id                    4878 non-null object\n",
      "batched_with_order_id      442 non-null object\n",
      "order_id                   4878 non-null object\n",
      "first_in_multiorder_flg    442 non-null float64\n",
      "courier_id                 4858 non-null object\n",
      "order_items_cnt            4878 non-null int64\n",
      "city                       4878 non-null object\n",
      "day                        4878 non-null int64\n",
      "hour                       4878 non-null int64\n",
      "dtypes: datetime64[ns](1), float64(1), int64(3), object(6)\n",
      "memory usage: 457.3+ KB\n"
     ]
    }
   ],
   "source": [
    "dfA.info()"
   ]
  },
  {
   "cell_type": "code",
   "execution_count": 1788,
   "metadata": {},
   "outputs": [
    {
     "data": {
      "text/html": [
       "<div>\n",
       "<style scoped>\n",
       "    .dataframe tbody tr th:only-of-type {\n",
       "        vertical-align: middle;\n",
       "    }\n",
       "\n",
       "    .dataframe tbody tr th {\n",
       "        vertical-align: top;\n",
       "    }\n",
       "\n",
       "    .dataframe thead th {\n",
       "        text-align: right;\n",
       "    }\n",
       "</style>\n",
       "<table border=\"1\" class=\"dataframe\">\n",
       "  <thead>\n",
       "    <tr style=\"text-align: right;\">\n",
       "      <th></th>\n",
       "      <th>brand_name</th>\n",
       "      <th>rest_id</th>\n",
       "      <th>batched_with_order_id</th>\n",
       "      <th>order_id</th>\n",
       "      <th>courier_id</th>\n",
       "      <th>city</th>\n",
       "    </tr>\n",
       "  </thead>\n",
       "  <tbody>\n",
       "    <tr>\n",
       "      <td>count</td>\n",
       "      <td>4878</td>\n",
       "      <td>4878</td>\n",
       "      <td>442</td>\n",
       "      <td>4878</td>\n",
       "      <td>4858</td>\n",
       "      <td>4878</td>\n",
       "    </tr>\n",
       "    <tr>\n",
       "      <td>unique</td>\n",
       "      <td>1</td>\n",
       "      <td>206</td>\n",
       "      <td>442</td>\n",
       "      <td>4878</td>\n",
       "      <td>2438</td>\n",
       "      <td>1</td>\n",
       "    </tr>\n",
       "    <tr>\n",
       "      <td>top</td>\n",
       "      <td>A</td>\n",
       "      <td>9b73035bb90cd7de4b9c1ff01e44f178</td>\n",
       "      <td>67a0e37266f6afb7ce2093825c8b9c72</td>\n",
       "      <td>39391b06846d043265c0b41536b0dead</td>\n",
       "      <td>5b17547f825d9cf35c7853621dd842f8</td>\n",
       "      <td>e6705560085199e9674cd721ee844d0d</td>\n",
       "    </tr>\n",
       "    <tr>\n",
       "      <td>freq</td>\n",
       "      <td>4878</td>\n",
       "      <td>107</td>\n",
       "      <td>1</td>\n",
       "      <td>1</td>\n",
       "      <td>414</td>\n",
       "      <td>4878</td>\n",
       "    </tr>\n",
       "  </tbody>\n",
       "</table>\n",
       "</div>"
      ],
      "text/plain": [
       "       brand_name                           rest_id  \\\n",
       "count        4878                              4878   \n",
       "unique          1                               206   \n",
       "top             A  9b73035bb90cd7de4b9c1ff01e44f178   \n",
       "freq         4878                               107   \n",
       "\n",
       "                   batched_with_order_id                          order_id  \\\n",
       "count                                442                              4878   \n",
       "unique                               442                              4878   \n",
       "top     67a0e37266f6afb7ce2093825c8b9c72  39391b06846d043265c0b41536b0dead   \n",
       "freq                                   1                                 1   \n",
       "\n",
       "                              courier_id                              city  \n",
       "count                               4858                              4878  \n",
       "unique                              2438                                 1  \n",
       "top     5b17547f825d9cf35c7853621dd842f8  e6705560085199e9674cd721ee844d0d  \n",
       "freq                                 414                              4878  "
      ]
     },
     "execution_count": 1788,
     "metadata": {},
     "output_type": "execute_result"
    }
   ],
   "source": [
    "dfA.describe(include=['O'])"
   ]
  },
  {
   "cell_type": "code",
   "execution_count": 1789,
   "metadata": {},
   "outputs": [
    {
     "data": {
      "text/plain": [
       "count                    4878\n",
       "unique                   4814\n",
       "top       2015-09-13 16:31:32\n",
       "freq                        3\n",
       "first     2015-09-13 00:00:05\n",
       "last      2015-09-16 10:56:00\n",
       "Name: order_created_datetime, dtype: object"
      ]
     },
     "execution_count": 1789,
     "metadata": {},
     "output_type": "execute_result"
    }
   ],
   "source": [
    "dfA.order_created_datetime.describe()"
   ]
  },
  {
   "cell_type": "code",
   "execution_count": 1790,
   "metadata": {},
   "outputs": [
    {
     "data": {
      "text/html": [
       "<div>\n",
       "<style scoped>\n",
       "    .dataframe tbody tr th:only-of-type {\n",
       "        vertical-align: middle;\n",
       "    }\n",
       "\n",
       "    .dataframe tbody tr th {\n",
       "        vertical-align: top;\n",
       "    }\n",
       "\n",
       "    .dataframe thead th {\n",
       "        text-align: right;\n",
       "    }\n",
       "</style>\n",
       "<table border=\"1\" class=\"dataframe\">\n",
       "  <thead>\n",
       "    <tr style=\"text-align: right;\">\n",
       "      <th></th>\n",
       "      <th>first_in_multiorder_flg</th>\n",
       "      <th>order_items_cnt</th>\n",
       "      <th>day</th>\n",
       "      <th>hour</th>\n",
       "    </tr>\n",
       "  </thead>\n",
       "  <tbody>\n",
       "    <tr>\n",
       "      <td>count</td>\n",
       "      <td>442.000000</td>\n",
       "      <td>4878.000000</td>\n",
       "      <td>4878.00000</td>\n",
       "      <td>4878.000000</td>\n",
       "    </tr>\n",
       "    <tr>\n",
       "      <td>mean</td>\n",
       "      <td>0.500000</td>\n",
       "      <td>4.789668</td>\n",
       "      <td>13.98237</td>\n",
       "      <td>15.220992</td>\n",
       "    </tr>\n",
       "    <tr>\n",
       "      <td>std</td>\n",
       "      <td>0.500567</td>\n",
       "      <td>2.860727</td>\n",
       "      <td>0.90637</td>\n",
       "      <td>5.067471</td>\n",
       "    </tr>\n",
       "    <tr>\n",
       "      <td>min</td>\n",
       "      <td>0.000000</td>\n",
       "      <td>1.000000</td>\n",
       "      <td>13.00000</td>\n",
       "      <td>0.000000</td>\n",
       "    </tr>\n",
       "    <tr>\n",
       "      <td>25%</td>\n",
       "      <td>0.000000</td>\n",
       "      <td>3.000000</td>\n",
       "      <td>13.00000</td>\n",
       "      <td>12.000000</td>\n",
       "    </tr>\n",
       "    <tr>\n",
       "      <td>50%</td>\n",
       "      <td>0.500000</td>\n",
       "      <td>4.000000</td>\n",
       "      <td>14.00000</td>\n",
       "      <td>16.000000</td>\n",
       "    </tr>\n",
       "    <tr>\n",
       "      <td>75%</td>\n",
       "      <td>1.000000</td>\n",
       "      <td>6.000000</td>\n",
       "      <td>15.00000</td>\n",
       "      <td>19.000000</td>\n",
       "    </tr>\n",
       "    <tr>\n",
       "      <td>max</td>\n",
       "      <td>1.000000</td>\n",
       "      <td>33.000000</td>\n",
       "      <td>16.00000</td>\n",
       "      <td>23.000000</td>\n",
       "    </tr>\n",
       "  </tbody>\n",
       "</table>\n",
       "</div>"
      ],
      "text/plain": [
       "       first_in_multiorder_flg  order_items_cnt         day         hour\n",
       "count               442.000000      4878.000000  4878.00000  4878.000000\n",
       "mean                  0.500000         4.789668    13.98237    15.220992\n",
       "std                   0.500567         2.860727     0.90637     5.067471\n",
       "min                   0.000000         1.000000    13.00000     0.000000\n",
       "25%                   0.000000         3.000000    13.00000    12.000000\n",
       "50%                   0.500000         4.000000    14.00000    16.000000\n",
       "75%                   1.000000         6.000000    15.00000    19.000000\n",
       "max                   1.000000        33.000000    16.00000    23.000000"
      ]
     },
     "execution_count": 1790,
     "metadata": {},
     "output_type": "execute_result"
    }
   ],
   "source": [
    "dfA.describe()"
   ]
  },
  {
   "cell_type": "markdown",
   "metadata": {},
   "source": [
    "# 3. Просмотрим сколько курьеров выполняют мультипоставки "
   ]
  },
  {
   "cell_type": "code",
   "execution_count": 1791,
   "metadata": {},
   "outputs": [],
   "source": [
    "# сгруппируем данные для просмотра сколко в среднем заказов выполняет курьер\n",
    "\n",
    "courierA = dfA.groupby(['courier_id', 'day']).agg({'order_id': 'count', 'batched_with_order_id': 'count'}).reset_index()"
   ]
  },
  {
   "cell_type": "code",
   "execution_count": 1792,
   "metadata": {},
   "outputs": [
    {
     "data": {
      "text/html": [
       "<div>\n",
       "<style scoped>\n",
       "    .dataframe tbody tr th:only-of-type {\n",
       "        vertical-align: middle;\n",
       "    }\n",
       "\n",
       "    .dataframe tbody tr th {\n",
       "        vertical-align: top;\n",
       "    }\n",
       "\n",
       "    .dataframe thead th {\n",
       "        text-align: right;\n",
       "    }\n",
       "</style>\n",
       "<table border=\"1\" class=\"dataframe\">\n",
       "  <thead>\n",
       "    <tr style=\"text-align: right;\">\n",
       "      <th></th>\n",
       "      <th>day</th>\n",
       "      <th>order_id</th>\n",
       "      <th>batched_with_order_id</th>\n",
       "    </tr>\n",
       "  </thead>\n",
       "  <tbody>\n",
       "    <tr>\n",
       "      <td>count</td>\n",
       "      <td>3226.000000</td>\n",
       "      <td>3226.000000</td>\n",
       "      <td>3226.000000</td>\n",
       "    </tr>\n",
       "    <tr>\n",
       "      <td>mean</td>\n",
       "      <td>13.992250</td>\n",
       "      <td>1.505890</td>\n",
       "      <td>0.137012</td>\n",
       "    </tr>\n",
       "    <tr>\n",
       "      <td>std</td>\n",
       "      <td>0.893526</td>\n",
       "      <td>4.154922</td>\n",
       "      <td>0.522202</td>\n",
       "    </tr>\n",
       "    <tr>\n",
       "      <td>min</td>\n",
       "      <td>13.000000</td>\n",
       "      <td>1.000000</td>\n",
       "      <td>0.000000</td>\n",
       "    </tr>\n",
       "    <tr>\n",
       "      <td>25%</td>\n",
       "      <td>13.000000</td>\n",
       "      <td>1.000000</td>\n",
       "      <td>0.000000</td>\n",
       "    </tr>\n",
       "    <tr>\n",
       "      <td>50%</td>\n",
       "      <td>14.000000</td>\n",
       "      <td>1.000000</td>\n",
       "      <td>0.000000</td>\n",
       "    </tr>\n",
       "    <tr>\n",
       "      <td>75%</td>\n",
       "      <td>15.000000</td>\n",
       "      <td>2.000000</td>\n",
       "      <td>0.000000</td>\n",
       "    </tr>\n",
       "    <tr>\n",
       "      <td>max</td>\n",
       "      <td>16.000000</td>\n",
       "      <td>168.000000</td>\n",
       "      <td>4.000000</td>\n",
       "    </tr>\n",
       "  </tbody>\n",
       "</table>\n",
       "</div>"
      ],
      "text/plain": [
       "               day     order_id  batched_with_order_id\n",
       "count  3226.000000  3226.000000            3226.000000\n",
       "mean     13.992250     1.505890               0.137012\n",
       "std       0.893526     4.154922               0.522202\n",
       "min      13.000000     1.000000               0.000000\n",
       "25%      13.000000     1.000000               0.000000\n",
       "50%      14.000000     1.000000               0.000000\n",
       "75%      15.000000     2.000000               0.000000\n",
       "max      16.000000   168.000000               4.000000"
      ]
     },
     "execution_count": 1792,
     "metadata": {},
     "output_type": "execute_result"
    }
   ],
   "source": [
    "courierA.describe()"
   ]
  },
  {
   "cell_type": "code",
   "execution_count": 1793,
   "metadata": {},
   "outputs": [
    {
     "data": {
      "text/plain": [
       "<matplotlib.axes._subplots.AxesSubplot at 0x1989911ad08>"
      ]
     },
     "execution_count": 1793,
     "metadata": {},
     "output_type": "execute_result"
    },
    {
     "data": {
      "image/png": "[encoded data removed]",
      "text/plain": [
       "<Figure size 432x288 with 1 Axes>"
      ]
     },
     "metadata": {
      "needs_background": "light"
     },
     "output_type": "display_data"
    }
   ],
   "source": [
    "courierA[courierA.batched_with_order_id > 0]['order_id'].hist(bins = 5)"
   ]
  },
  {
   "cell_type": "code",
   "execution_count": 1794,
   "metadata": {},
   "outputs": [],
   "source": [
    "# рассчитатем долю мультизаказов в общем числе заказов выполняемых курьером\n",
    "\n",
    "courierA_group = courierA.groupby('order_id').agg({'order_id': 'count'})\n",
    "\n",
    "courierA_group.columns = ['order_id_count']"
   ]
  },
  {
   "cell_type": "code",
   "execution_count": 1795,
   "metadata": {},
   "outputs": [],
   "source": [
    "courierA_group_batched_with_order_id = courierA[courierA.batched_with_order_id > 0].groupby('order_id').agg({'batched_with_order_id': 'count'})"
   ]
  },
  {
   "cell_type": "code",
   "execution_count": 1796,
   "metadata": {},
   "outputs": [],
   "source": [
    "courierA_group = courierA_group.merge(courierA_group_batched_with_order_id, how='left', on = 'order_id')"
   ]
  },
  {
   "cell_type": "code",
   "execution_count": 1797,
   "metadata": {},
   "outputs": [],
   "source": [
    "courierA_group = courierA_group.fillna(0)"
   ]
  },
  {
   "cell_type": "code",
   "execution_count": 1798,
   "metadata": {},
   "outputs": [],
   "source": [
    "courierA_group['share_batched_with_order_id'] = courierA_group.batched_with_order_id / courierA_group.order_id_count"
   ]
  },
  {
   "cell_type": "code",
   "execution_count": 1799,
   "metadata": {},
   "outputs": [
    {
     "data": {
      "text/html": [
       "<div>\n",
       "<style scoped>\n",
       "    .dataframe tbody tr th:only-of-type {\n",
       "        vertical-align: middle;\n",
       "    }\n",
       "\n",
       "    .dataframe tbody tr th {\n",
       "        vertical-align: top;\n",
       "    }\n",
       "\n",
       "    .dataframe thead th {\n",
       "        text-align: right;\n",
       "    }\n",
       "</style>\n",
       "<table border=\"1\" class=\"dataframe\">\n",
       "  <thead>\n",
       "    <tr style=\"text-align: right;\">\n",
       "      <th></th>\n",
       "      <th>order_id_count</th>\n",
       "      <th>batched_with_order_id</th>\n",
       "      <th>share_batched_with_order_id</th>\n",
       "    </tr>\n",
       "    <tr>\n",
       "      <th>order_id</th>\n",
       "      <th></th>\n",
       "      <th></th>\n",
       "      <th></th>\n",
       "    </tr>\n",
       "  </thead>\n",
       "  <tbody>\n",
       "    <tr>\n",
       "      <td>1</td>\n",
       "      <td>2400</td>\n",
       "      <td>0.0</td>\n",
       "      <td>0.000000</td>\n",
       "    </tr>\n",
       "    <tr>\n",
       "      <td>2</td>\n",
       "      <td>614</td>\n",
       "      <td>148.0</td>\n",
       "      <td>0.241042</td>\n",
       "    </tr>\n",
       "    <tr>\n",
       "      <td>3</td>\n",
       "      <td>156</td>\n",
       "      <td>45.0</td>\n",
       "      <td>0.288462</td>\n",
       "    </tr>\n",
       "    <tr>\n",
       "      <td>4</td>\n",
       "      <td>33</td>\n",
       "      <td>13.0</td>\n",
       "      <td>0.393939</td>\n",
       "    </tr>\n",
       "    <tr>\n",
       "      <td>5</td>\n",
       "      <td>11</td>\n",
       "      <td>7.0</td>\n",
       "      <td>0.636364</td>\n",
       "    </tr>\n",
       "    <tr>\n",
       "      <td>6</td>\n",
       "      <td>3</td>\n",
       "      <td>1.0</td>\n",
       "      <td>0.333333</td>\n",
       "    </tr>\n",
       "    <tr>\n",
       "      <td>7</td>\n",
       "      <td>1</td>\n",
       "      <td>0.0</td>\n",
       "      <td>0.000000</td>\n",
       "    </tr>\n",
       "    <tr>\n",
       "      <td>22</td>\n",
       "      <td>1</td>\n",
       "      <td>0.0</td>\n",
       "      <td>0.000000</td>\n",
       "    </tr>\n",
       "    <tr>\n",
       "      <td>28</td>\n",
       "      <td>1</td>\n",
       "      <td>0.0</td>\n",
       "      <td>0.000000</td>\n",
       "    </tr>\n",
       "    <tr>\n",
       "      <td>29</td>\n",
       "      <td>1</td>\n",
       "      <td>0.0</td>\n",
       "      <td>0.000000</td>\n",
       "    </tr>\n",
       "    <tr>\n",
       "      <td>46</td>\n",
       "      <td>1</td>\n",
       "      <td>0.0</td>\n",
       "      <td>0.000000</td>\n",
       "    </tr>\n",
       "    <tr>\n",
       "      <td>57</td>\n",
       "      <td>1</td>\n",
       "      <td>0.0</td>\n",
       "      <td>0.000000</td>\n",
       "    </tr>\n",
       "    <tr>\n",
       "      <td>94</td>\n",
       "      <td>1</td>\n",
       "      <td>0.0</td>\n",
       "      <td>0.000000</td>\n",
       "    </tr>\n",
       "    <tr>\n",
       "      <td>106</td>\n",
       "      <td>1</td>\n",
       "      <td>0.0</td>\n",
       "      <td>0.000000</td>\n",
       "    </tr>\n",
       "    <tr>\n",
       "      <td>168</td>\n",
       "      <td>1</td>\n",
       "      <td>0.0</td>\n",
       "      <td>0.000000</td>\n",
       "    </tr>\n",
       "  </tbody>\n",
       "</table>\n",
       "</div>"
      ],
      "text/plain": [
       "          order_id_count  batched_with_order_id  share_batched_with_order_id\n",
       "order_id                                                                    \n",
       "1                   2400                    0.0                     0.000000\n",
       "2                    614                  148.0                     0.241042\n",
       "3                    156                   45.0                     0.288462\n",
       "4                     33                   13.0                     0.393939\n",
       "5                     11                    7.0                     0.636364\n",
       "6                      3                    1.0                     0.333333\n",
       "7                      1                    0.0                     0.000000\n",
       "22                     1                    0.0                     0.000000\n",
       "28                     1                    0.0                     0.000000\n",
       "29                     1                    0.0                     0.000000\n",
       "46                     1                    0.0                     0.000000\n",
       "57                     1                    0.0                     0.000000\n",
       "94                     1                    0.0                     0.000000\n",
       "106                    1                    0.0                     0.000000\n",
       "168                    1                    0.0                     0.000000"
      ]
     },
     "execution_count": 1799,
     "metadata": {},
     "output_type": "execute_result"
    }
   ],
   "source": [
    "courierA_group "
   ]
  },
  {
   "cell_type": "markdown",
   "metadata": {},
   "source": [
    "Вывод\n",
    "-----\n",
    "\n",
    " Наличие мультипоставок зависит от количества заказов, которые выполняет курьер за сутки: Наилучший % имеют курьеры, которые поставляют 5 поставок, затем 4 заказа, затем, 6 заказов, затем 3 и 2 заказов."
   ]
  },
  {
   "cell_type": "markdown",
   "metadata": {},
   "source": [
    "# 4.Проанализируем поставки в разрезе рестаранов"
   ]
  },
  {
   "cell_type": "code",
   "execution_count": 1800,
   "metadata": {},
   "outputs": [],
   "source": [
    "# сгруппируем и посмотрим сколько заказов выполняется в рамках одного ресторана в сутки\n",
    "\n",
    "restA = dfA.groupby(['day', 'rest_id']).agg({'order_id': 'count', 'batched_with_order_id': 'count'}).reset_index()"
   ]
  },
  {
   "cell_type": "code",
   "execution_count": 1801,
   "metadata": {},
   "outputs": [
    {
     "data": {
      "text/plain": [
       "<matplotlib.axes._subplots.AxesSubplot at 0x1989b3fb2c8>"
      ]
     },
     "execution_count": 1801,
     "metadata": {},
     "output_type": "execute_result"
    },
    {
     "data": {
      "image/png": "[encoded data removed]",
      "text/plain": [
       "<Figure size 432x288 with 1 Axes>"
      ]
     },
     "metadata": {
      "needs_background": "light"
     },
     "output_type": "display_data"
    }
   ],
   "source": [
    "restA[restA.batched_with_order_id > 0]['order_id'].hist(bins = 15)"
   ]
  },
  {
   "cell_type": "code",
   "execution_count": 1802,
   "metadata": {},
   "outputs": [],
   "source": [
    "# определим долю мультзаказаов в общей доле заказов при выполнении различного объема заказов рестораном\n",
    "\n",
    "restA_group = restA.groupby('order_id').agg({'order_id': 'count'})\n",
    "\n",
    "restA_group.columns = ['order_id_count']"
   ]
  },
  {
   "cell_type": "code",
   "execution_count": 1803,
   "metadata": {},
   "outputs": [],
   "source": [
    "restA_group_batched_with_order_id = restA[restA.batched_with_order_id > 0].groupby('order_id').agg({'batched_with_order_id': 'count'})"
   ]
  },
  {
   "cell_type": "code",
   "execution_count": 1804,
   "metadata": {},
   "outputs": [],
   "source": [
    "restA_group = restA_group.merge(restA_group_batched_with_order_id, how='left', on = 'order_id')\n",
    "\n",
    "restA_group = restA_group.fillna(0)"
   ]
  },
  {
   "cell_type": "code",
   "execution_count": 1805,
   "metadata": {},
   "outputs": [],
   "source": [
    "restA_group['share_batched_with_order_id'] = restA_group.batched_with_order_id / restA_group.order_id_count"
   ]
  },
  {
   "cell_type": "code",
   "execution_count": 1806,
   "metadata": {},
   "outputs": [
    {
     "data": {
      "text/html": [
       "<div>\n",
       "<style scoped>\n",
       "    .dataframe tbody tr th:only-of-type {\n",
       "        vertical-align: middle;\n",
       "    }\n",
       "\n",
       "    .dataframe tbody tr th {\n",
       "        vertical-align: top;\n",
       "    }\n",
       "\n",
       "    .dataframe thead th {\n",
       "        text-align: right;\n",
       "    }\n",
       "</style>\n",
       "<table border=\"1\" class=\"dataframe\">\n",
       "  <thead>\n",
       "    <tr style=\"text-align: right;\">\n",
       "      <th></th>\n",
       "      <th>order_id_count</th>\n",
       "      <th>batched_with_order_id</th>\n",
       "      <th>share_batched_with_order_id</th>\n",
       "    </tr>\n",
       "    <tr>\n",
       "      <th>order_id</th>\n",
       "      <th></th>\n",
       "      <th></th>\n",
       "      <th></th>\n",
       "    </tr>\n",
       "  </thead>\n",
       "  <tbody>\n",
       "    <tr>\n",
       "      <td>1</td>\n",
       "      <td>79</td>\n",
       "      <td>0.0</td>\n",
       "      <td>0.000000</td>\n",
       "    </tr>\n",
       "    <tr>\n",
       "      <td>2</td>\n",
       "      <td>61</td>\n",
       "      <td>0.0</td>\n",
       "      <td>0.000000</td>\n",
       "    </tr>\n",
       "    <tr>\n",
       "      <td>3</td>\n",
       "      <td>49</td>\n",
       "      <td>4.0</td>\n",
       "      <td>0.081633</td>\n",
       "    </tr>\n",
       "    <tr>\n",
       "      <td>4</td>\n",
       "      <td>70</td>\n",
       "      <td>5.0</td>\n",
       "      <td>0.071429</td>\n",
       "    </tr>\n",
       "    <tr>\n",
       "      <td>5</td>\n",
       "      <td>66</td>\n",
       "      <td>14.0</td>\n",
       "      <td>0.212121</td>\n",
       "    </tr>\n",
       "    <tr>\n",
       "      <td>6</td>\n",
       "      <td>54</td>\n",
       "      <td>3.0</td>\n",
       "      <td>0.055556</td>\n",
       "    </tr>\n",
       "    <tr>\n",
       "      <td>7</td>\n",
       "      <td>48</td>\n",
       "      <td>14.0</td>\n",
       "      <td>0.291667</td>\n",
       "    </tr>\n",
       "    <tr>\n",
       "      <td>8</td>\n",
       "      <td>38</td>\n",
       "      <td>14.0</td>\n",
       "      <td>0.368421</td>\n",
       "    </tr>\n",
       "    <tr>\n",
       "      <td>9</td>\n",
       "      <td>31</td>\n",
       "      <td>15.0</td>\n",
       "      <td>0.483871</td>\n",
       "    </tr>\n",
       "    <tr>\n",
       "      <td>10</td>\n",
       "      <td>30</td>\n",
       "      <td>9.0</td>\n",
       "      <td>0.300000</td>\n",
       "    </tr>\n",
       "    <tr>\n",
       "      <td>11</td>\n",
       "      <td>16</td>\n",
       "      <td>5.0</td>\n",
       "      <td>0.312500</td>\n",
       "    </tr>\n",
       "    <tr>\n",
       "      <td>12</td>\n",
       "      <td>15</td>\n",
       "      <td>8.0</td>\n",
       "      <td>0.533333</td>\n",
       "    </tr>\n",
       "    <tr>\n",
       "      <td>13</td>\n",
       "      <td>15</td>\n",
       "      <td>10.0</td>\n",
       "      <td>0.666667</td>\n",
       "    </tr>\n",
       "    <tr>\n",
       "      <td>14</td>\n",
       "      <td>18</td>\n",
       "      <td>7.0</td>\n",
       "      <td>0.388889</td>\n",
       "    </tr>\n",
       "    <tr>\n",
       "      <td>15</td>\n",
       "      <td>16</td>\n",
       "      <td>9.0</td>\n",
       "      <td>0.562500</td>\n",
       "    </tr>\n",
       "    <tr>\n",
       "      <td>16</td>\n",
       "      <td>16</td>\n",
       "      <td>10.0</td>\n",
       "      <td>0.625000</td>\n",
       "    </tr>\n",
       "    <tr>\n",
       "      <td>17</td>\n",
       "      <td>9</td>\n",
       "      <td>6.0</td>\n",
       "      <td>0.666667</td>\n",
       "    </tr>\n",
       "    <tr>\n",
       "      <td>18</td>\n",
       "      <td>8</td>\n",
       "      <td>5.0</td>\n",
       "      <td>0.625000</td>\n",
       "    </tr>\n",
       "    <tr>\n",
       "      <td>19</td>\n",
       "      <td>5</td>\n",
       "      <td>2.0</td>\n",
       "      <td>0.400000</td>\n",
       "    </tr>\n",
       "    <tr>\n",
       "      <td>20</td>\n",
       "      <td>2</td>\n",
       "      <td>2.0</td>\n",
       "      <td>1.000000</td>\n",
       "    </tr>\n",
       "    <tr>\n",
       "      <td>21</td>\n",
       "      <td>2</td>\n",
       "      <td>1.0</td>\n",
       "      <td>0.500000</td>\n",
       "    </tr>\n",
       "    <tr>\n",
       "      <td>22</td>\n",
       "      <td>4</td>\n",
       "      <td>4.0</td>\n",
       "      <td>1.000000</td>\n",
       "    </tr>\n",
       "    <tr>\n",
       "      <td>23</td>\n",
       "      <td>4</td>\n",
       "      <td>3.0</td>\n",
       "      <td>0.750000</td>\n",
       "    </tr>\n",
       "    <tr>\n",
       "      <td>24</td>\n",
       "      <td>2</td>\n",
       "      <td>1.0</td>\n",
       "      <td>0.500000</td>\n",
       "    </tr>\n",
       "    <tr>\n",
       "      <td>26</td>\n",
       "      <td>1</td>\n",
       "      <td>1.0</td>\n",
       "      <td>1.000000</td>\n",
       "    </tr>\n",
       "    <tr>\n",
       "      <td>27</td>\n",
       "      <td>2</td>\n",
       "      <td>2.0</td>\n",
       "      <td>1.000000</td>\n",
       "    </tr>\n",
       "    <tr>\n",
       "      <td>28</td>\n",
       "      <td>1</td>\n",
       "      <td>1.0</td>\n",
       "      <td>1.000000</td>\n",
       "    </tr>\n",
       "    <tr>\n",
       "      <td>30</td>\n",
       "      <td>2</td>\n",
       "      <td>1.0</td>\n",
       "      <td>0.500000</td>\n",
       "    </tr>\n",
       "    <tr>\n",
       "      <td>32</td>\n",
       "      <td>3</td>\n",
       "      <td>1.0</td>\n",
       "      <td>0.333333</td>\n",
       "    </tr>\n",
       "    <tr>\n",
       "      <td>33</td>\n",
       "      <td>2</td>\n",
       "      <td>1.0</td>\n",
       "      <td>0.500000</td>\n",
       "    </tr>\n",
       "    <tr>\n",
       "      <td>46</td>\n",
       "      <td>1</td>\n",
       "      <td>1.0</td>\n",
       "      <td>1.000000</td>\n",
       "    </tr>\n",
       "  </tbody>\n",
       "</table>\n",
       "</div>"
      ],
      "text/plain": [
       "          order_id_count  batched_with_order_id  share_batched_with_order_id\n",
       "order_id                                                                    \n",
       "1                     79                    0.0                     0.000000\n",
       "2                     61                    0.0                     0.000000\n",
       "3                     49                    4.0                     0.081633\n",
       "4                     70                    5.0                     0.071429\n",
       "5                     66                   14.0                     0.212121\n",
       "6                     54                    3.0                     0.055556\n",
       "7                     48                   14.0                     0.291667\n",
       "8                     38                   14.0                     0.368421\n",
       "9                     31                   15.0                     0.483871\n",
       "10                    30                    9.0                     0.300000\n",
       "11                    16                    5.0                     0.312500\n",
       "12                    15                    8.0                     0.533333\n",
       "13                    15                   10.0                     0.666667\n",
       "14                    18                    7.0                     0.388889\n",
       "15                    16                    9.0                     0.562500\n",
       "16                    16                   10.0                     0.625000\n",
       "17                     9                    6.0                     0.666667\n",
       "18                     8                    5.0                     0.625000\n",
       "19                     5                    2.0                     0.400000\n",
       "20                     2                    2.0                     1.000000\n",
       "21                     2                    1.0                     0.500000\n",
       "22                     4                    4.0                     1.000000\n",
       "23                     4                    3.0                     0.750000\n",
       "24                     2                    1.0                     0.500000\n",
       "26                     1                    1.0                     1.000000\n",
       "27                     2                    2.0                     1.000000\n",
       "28                     1                    1.0                     1.000000\n",
       "30                     2                    1.0                     0.500000\n",
       "32                     3                    1.0                     0.333333\n",
       "33                     2                    1.0                     0.500000\n",
       "46                     1                    1.0                     1.000000"
      ]
     },
     "execution_count": 1806,
     "metadata": {},
     "output_type": "execute_result"
    }
   ],
   "source": [
    "restA_group"
   ]
  },
  {
   "cell_type": "markdown",
   "metadata": {},
   "source": [
    "Вывод\n",
    "------\n",
    "\n",
    "Чем больше число выполняемых заказов в рестаранах в сутки, тем больше доля числа заказов, выполняемых совместно"
   ]
  },
  {
   "cell_type": "markdown",
   "metadata": {},
   "source": [
    "# 5. Проанализируем поставки в разрезе времени между поставками"
   ]
  },
  {
   "cell_type": "code",
   "execution_count": 1807,
   "metadata": {},
   "outputs": [],
   "source": [
    "# Выделим DF, где есть мультизаказы \n",
    "\n",
    "dfA_multiorder = dfA[dfA['batched_with_order_id'].isna() == False]"
   ]
  },
  {
   "cell_type": "code",
   "execution_count": 1808,
   "metadata": {},
   "outputs": [],
   "source": [
    "# Функция возврощает время заказа второго заказа в мультизаказе\n",
    "\n",
    "def order_created_datetime_two_time(data):\n",
    "    \n",
    "    batched_with_order_id = data['batched_with_order_id']\n",
    "    \n",
    "    index_1 = dfA.loc[dfA.order_id == batched_with_order_id].index[0]\n",
    "    \n",
    "    return dfA.loc[index_1,'order_created_datetime']"
   ]
  },
  {
   "cell_type": "code",
   "execution_count": 1809,
   "metadata": {},
   "outputs": [
    {
     "name": "stderr",
     "output_type": "stream",
     "text": [
      "C:\\Users\\User\\Anaconda3\\lib\\site-packages\\ipykernel_launcher.py:1: SettingWithCopyWarning: \n",
      "A value is trying to be set on a copy of a slice from a DataFrame.\n",
      "Try using .loc[row_indexer,col_indexer] = value instead\n",
      "\n",
      "See the caveats in the documentation: http://pandas.pydata.org/pandas-docs/stable/user_guide/indexing.html#returning-a-view-versus-a-copy\n",
      "  \"\"\"Entry point for launching an IPython kernel.\n"
     ]
    }
   ],
   "source": [
    "dfA_multiorder['order_created_datetime_two_time'] = dfA_multiorder.apply(order_created_datetime_two_time, axis = 1)"
   ]
  },
  {
   "cell_type": "code",
   "execution_count": 1810,
   "metadata": {},
   "outputs": [
    {
     "name": "stderr",
     "output_type": "stream",
     "text": [
      "C:\\Users\\User\\Anaconda3\\lib\\site-packages\\ipykernel_launcher.py:3: SettingWithCopyWarning: \n",
      "A value is trying to be set on a copy of a slice from a DataFrame.\n",
      "Try using .loc[row_indexer,col_indexer] = value instead\n",
      "\n",
      "See the caveats in the documentation: http://pandas.pydata.org/pandas-docs/stable/user_guide/indexing.html#returning-a-view-versus-a-copy\n",
      "  This is separate from the ipykernel package so we can avoid doing imports until\n"
     ]
    }
   ],
   "source": [
    "# Определим разницу во времени между заказами в мультизаказе в минутах\n",
    "\n",
    "dfA_multiorder['time_delta'] = (dfA_multiorder['order_created_datetime'] - dfA_multiorder['order_created_datetime_two_time']) / np.timedelta64(1, 'm')"
   ]
  },
  {
   "cell_type": "code",
   "execution_count": 1811,
   "metadata": {},
   "outputs": [
    {
     "data": {
      "text/plain": [
       "count    221.000000\n",
       "mean       9.261916\n",
       "std       34.889056\n",
       "min        0.033333\n",
       "25%        2.933333\n",
       "50%        6.066667\n",
       "75%        9.650000\n",
       "max      519.800000\n",
       "Name: time_delta, dtype: float64"
      ]
     },
     "execution_count": 1811,
     "metadata": {},
     "output_type": "execute_result"
    }
   ],
   "source": [
    "# Очистим DF от дубликатов\n",
    "\n",
    "dfA_multiorder[dfA_multiorder.time_delta >= 0].time_delta.describe()"
   ]
  },
  {
   "cell_type": "code",
   "execution_count": 1812,
   "metadata": {},
   "outputs": [
    {
     "data": {
      "text/plain": [
       "<matplotlib.axes._subplots.AxesSubplot at 0x198832c8488>"
      ]
     },
     "execution_count": 1812,
     "metadata": {},
     "output_type": "execute_result"
    },
    {
     "data": {
      "image/png": "[encoded data removed]",
      "text/plain": [
       "<Figure size 432x288 with 1 Axes>"
      ]
     },
     "metadata": {
      "needs_background": "light"
     },
     "output_type": "display_data"
    }
   ],
   "source": [
    "dfA_multiorder[dfA_multiorder.time_delta >= 0]['time_delta'].hist(bins = 15)"
   ]
  },
  {
   "cell_type": "markdown",
   "metadata": {},
   "source": [
    "Вывод\n",
    "------\n",
    "\n",
    "Как видем время между заказами медианное значение 6 минут. А вероятность того, что заказы будут выполнени совместно является то, что разница между поступленями заказов составит не более 20 минут"
   ]
  },
  {
   "cell_type": "markdown",
   "metadata": {},
   "source": [
    "# 5. Проанализируем время прихода между заказами"
   ]
  },
  {
   "cell_type": "code",
   "execution_count": 1813,
   "metadata": {},
   "outputs": [],
   "source": [
    "# Выделим те рестораны, где потенциально может возникнуть мультизаказ\n",
    "\n",
    "restA_2 = restA[restA.order_id > 1]"
   ]
  },
  {
   "cell_type": "code",
   "execution_count": 1814,
   "metadata": {},
   "outputs": [
    {
     "data": {
      "text/html": [
       "<div>\n",
       "<style scoped>\n",
       "    .dataframe tbody tr th:only-of-type {\n",
       "        vertical-align: middle;\n",
       "    }\n",
       "\n",
       "    .dataframe tbody tr th {\n",
       "        vertical-align: top;\n",
       "    }\n",
       "\n",
       "    .dataframe thead th {\n",
       "        text-align: right;\n",
       "    }\n",
       "</style>\n",
       "<table border=\"1\" class=\"dataframe\">\n",
       "  <thead>\n",
       "    <tr style=\"text-align: right;\">\n",
       "      <th></th>\n",
       "      <th>day</th>\n",
       "      <th>rest_id</th>\n",
       "      <th>order_id</th>\n",
       "      <th>batched_with_order_id</th>\n",
       "    </tr>\n",
       "  </thead>\n",
       "  <tbody>\n",
       "    <tr>\n",
       "      <td>0</td>\n",
       "      <td>13</td>\n",
       "      <td>03e61cfb9d3325c7c88accd2b3cfa2be</td>\n",
       "      <td>16</td>\n",
       "      <td>2</td>\n",
       "    </tr>\n",
       "    <tr>\n",
       "      <td>1</td>\n",
       "      <td>13</td>\n",
       "      <td>0444aaef75d811aa8754f3bc77cea633</td>\n",
       "      <td>13</td>\n",
       "      <td>0</td>\n",
       "    </tr>\n",
       "    <tr>\n",
       "      <td>2</td>\n",
       "      <td>13</td>\n",
       "      <td>05759cc0a86c0976b8e1dbe593bd22a0</td>\n",
       "      <td>8</td>\n",
       "      <td>0</td>\n",
       "    </tr>\n",
       "    <tr>\n",
       "      <td>3</td>\n",
       "      <td>13</td>\n",
       "      <td>08720306483a428a1869df05b226f0db</td>\n",
       "      <td>18</td>\n",
       "      <td>2</td>\n",
       "    </tr>\n",
       "    <tr>\n",
       "      <td>4</td>\n",
       "      <td>13</td>\n",
       "      <td>0ab71472311f386e7a527450a2912840</td>\n",
       "      <td>18</td>\n",
       "      <td>2</td>\n",
       "    </tr>\n",
       "    <tr>\n",
       "      <td>...</td>\n",
       "      <td>...</td>\n",
       "      <td>...</td>\n",
       "      <td>...</td>\n",
       "      <td>...</td>\n",
       "    </tr>\n",
       "    <tr>\n",
       "      <td>654</td>\n",
       "      <td>16</td>\n",
       "      <td>cf6d4fc513775e1c5ef0e37fa41bd238</td>\n",
       "      <td>4</td>\n",
       "      <td>0</td>\n",
       "    </tr>\n",
       "    <tr>\n",
       "      <td>655</td>\n",
       "      <td>16</td>\n",
       "      <td>cfe2b53803fe67c572d68f575948671e</td>\n",
       "      <td>5</td>\n",
       "      <td>2</td>\n",
       "    </tr>\n",
       "    <tr>\n",
       "      <td>656</td>\n",
       "      <td>16</td>\n",
       "      <td>d1e66c75e8deec66a0aa08aefa5736aa</td>\n",
       "      <td>8</td>\n",
       "      <td>0</td>\n",
       "    </tr>\n",
       "    <tr>\n",
       "      <td>659</td>\n",
       "      <td>16</td>\n",
       "      <td>d96c27c8d8e2c7e386dd0cf79735df64</td>\n",
       "      <td>2</td>\n",
       "      <td>0</td>\n",
       "    </tr>\n",
       "    <tr>\n",
       "      <td>662</td>\n",
       "      <td>16</td>\n",
       "      <td>e3a97192aa933cd4d8af4641efdc1ffc</td>\n",
       "      <td>2</td>\n",
       "      <td>0</td>\n",
       "    </tr>\n",
       "  </tbody>\n",
       "</table>\n",
       "<p>591 rows × 4 columns</p>\n",
       "</div>"
      ],
      "text/plain": [
       "     day                           rest_id  order_id  batched_with_order_id\n",
       "0     13  03e61cfb9d3325c7c88accd2b3cfa2be        16                      2\n",
       "1     13  0444aaef75d811aa8754f3bc77cea633        13                      0\n",
       "2     13  05759cc0a86c0976b8e1dbe593bd22a0         8                      0\n",
       "3     13  08720306483a428a1869df05b226f0db        18                      2\n",
       "4     13  0ab71472311f386e7a527450a2912840        18                      2\n",
       "..   ...                               ...       ...                    ...\n",
       "654   16  cf6d4fc513775e1c5ef0e37fa41bd238         4                      0\n",
       "655   16  cfe2b53803fe67c572d68f575948671e         5                      2\n",
       "656   16  d1e66c75e8deec66a0aa08aefa5736aa         8                      0\n",
       "659   16  d96c27c8d8e2c7e386dd0cf79735df64         2                      0\n",
       "662   16  e3a97192aa933cd4d8af4641efdc1ffc         2                      0\n",
       "\n",
       "[591 rows x 4 columns]"
      ]
     },
     "execution_count": 1814,
     "metadata": {},
     "output_type": "execute_result"
    }
   ],
   "source": [
    "restA_2"
   ]
  },
  {
   "cell_type": "code",
   "execution_count": 1815,
   "metadata": {},
   "outputs": [],
   "source": [
    "# создадим метку ресторонов, которые выполняют только 1 заказ в сутки\n",
    "\n",
    "dfA['tag_1_order_per_day'] = dfA['rest_id'].where(dfA['rest_id'].isin(restA_2.rest_id), '1_order')"
   ]
  },
  {
   "cell_type": "code",
   "execution_count": 1816,
   "metadata": {},
   "outputs": [
    {
     "data": {
      "text/html": [
       "<div>\n",
       "<style scoped>\n",
       "    .dataframe tbody tr th:only-of-type {\n",
       "        vertical-align: middle;\n",
       "    }\n",
       "\n",
       "    .dataframe tbody tr th {\n",
       "        vertical-align: top;\n",
       "    }\n",
       "\n",
       "    .dataframe thead th {\n",
       "        text-align: right;\n",
       "    }\n",
       "</style>\n",
       "<table border=\"1\" class=\"dataframe\">\n",
       "  <thead>\n",
       "    <tr style=\"text-align: right;\">\n",
       "      <th></th>\n",
       "      <th>order_created_datetime</th>\n",
       "      <th>brand_name</th>\n",
       "      <th>rest_id</th>\n",
       "      <th>batched_with_order_id</th>\n",
       "      <th>order_id</th>\n",
       "      <th>first_in_multiorder_flg</th>\n",
       "      <th>courier_id</th>\n",
       "      <th>order_items_cnt</th>\n",
       "      <th>city</th>\n",
       "      <th>day</th>\n",
       "      <th>hour</th>\n",
       "      <th>tag_1_order_per_day</th>\n",
       "    </tr>\n",
       "  </thead>\n",
       "  <tbody>\n",
       "    <tr>\n",
       "      <td>1</td>\n",
       "      <td>2015-09-13 18:40:12</td>\n",
       "      <td>A</td>\n",
       "      <td>9b73035bb90cd7de4b9c1ff01e44f178</td>\n",
       "      <td>NaN</td>\n",
       "      <td>793f2fa9aa3d52d2da05caa3c30cb77e</td>\n",
       "      <td>NaN</td>\n",
       "      <td>8ed37467dc9b257b3b3bdc1bfebd9b28</td>\n",
       "      <td>8</td>\n",
       "      <td>e6705560085199e9674cd721ee844d0d</td>\n",
       "      <td>13</td>\n",
       "      <td>18</td>\n",
       "      <td>9b73035bb90cd7de4b9c1ff01e44f178</td>\n",
       "    </tr>\n",
       "    <tr>\n",
       "      <td>2</td>\n",
       "      <td>2015-09-14 01:52:40</td>\n",
       "      <td>A</td>\n",
       "      <td>9b73035bb90cd7de4b9c1ff01e44f178</td>\n",
       "      <td>NaN</td>\n",
       "      <td>b6c5ec927a3e314b0900c103a0cd68fa</td>\n",
       "      <td>NaN</td>\n",
       "      <td>5b17547f825d9cf35c7853621dd842f8</td>\n",
       "      <td>1</td>\n",
       "      <td>e6705560085199e9674cd721ee844d0d</td>\n",
       "      <td>14</td>\n",
       "      <td>1</td>\n",
       "      <td>9b73035bb90cd7de4b9c1ff01e44f178</td>\n",
       "    </tr>\n",
       "    <tr>\n",
       "      <td>26</td>\n",
       "      <td>2015-09-14 15:19:47</td>\n",
       "      <td>A</td>\n",
       "      <td>19676ec4336969140631e05236712394</td>\n",
       "      <td>NaN</td>\n",
       "      <td>17755f1695806490c46e5a5c1fbf8dc7</td>\n",
       "      <td>NaN</td>\n",
       "      <td>8bda86781f9ddbfbcaa331ffa1a6a2f4</td>\n",
       "      <td>14</td>\n",
       "      <td>e6705560085199e9674cd721ee844d0d</td>\n",
       "      <td>14</td>\n",
       "      <td>15</td>\n",
       "      <td>19676ec4336969140631e05236712394</td>\n",
       "    </tr>\n",
       "    <tr>\n",
       "      <td>35</td>\n",
       "      <td>2015-09-14 13:01:58</td>\n",
       "      <td>A</td>\n",
       "      <td>9b73035bb90cd7de4b9c1ff01e44f178</td>\n",
       "      <td>NaN</td>\n",
       "      <td>96d9d710dd7aab07662f1fbecb96972c</td>\n",
       "      <td>NaN</td>\n",
       "      <td>3d670955da9bac56e1b70527bf0c1fd8</td>\n",
       "      <td>4</td>\n",
       "      <td>e6705560085199e9674cd721ee844d0d</td>\n",
       "      <td>14</td>\n",
       "      <td>13</td>\n",
       "      <td>9b73035bb90cd7de4b9c1ff01e44f178</td>\n",
       "    </tr>\n",
       "    <tr>\n",
       "      <td>42</td>\n",
       "      <td>2015-09-14 13:32:37</td>\n",
       "      <td>A</td>\n",
       "      <td>9b73035bb90cd7de4b9c1ff01e44f178</td>\n",
       "      <td>NaN</td>\n",
       "      <td>faac81c5896cb8383f5a61ad369a9f2e</td>\n",
       "      <td>NaN</td>\n",
       "      <td>a1a49d95a762bff347b70f97997c0b03</td>\n",
       "      <td>3</td>\n",
       "      <td>e6705560085199e9674cd721ee844d0d</td>\n",
       "      <td>14</td>\n",
       "      <td>13</td>\n",
       "      <td>9b73035bb90cd7de4b9c1ff01e44f178</td>\n",
       "    </tr>\n",
       "  </tbody>\n",
       "</table>\n",
       "</div>"
      ],
      "text/plain": [
       "   order_created_datetime brand_name                           rest_id  \\\n",
       "1     2015-09-13 18:40:12          A  9b73035bb90cd7de4b9c1ff01e44f178   \n",
       "2     2015-09-14 01:52:40          A  9b73035bb90cd7de4b9c1ff01e44f178   \n",
       "26    2015-09-14 15:19:47          A  19676ec4336969140631e05236712394   \n",
       "35    2015-09-14 13:01:58          A  9b73035bb90cd7de4b9c1ff01e44f178   \n",
       "42    2015-09-14 13:32:37          A  9b73035bb90cd7de4b9c1ff01e44f178   \n",
       "\n",
       "   batched_with_order_id                          order_id  \\\n",
       "1                    NaN  793f2fa9aa3d52d2da05caa3c30cb77e   \n",
       "2                    NaN  b6c5ec927a3e314b0900c103a0cd68fa   \n",
       "26                   NaN  17755f1695806490c46e5a5c1fbf8dc7   \n",
       "35                   NaN  96d9d710dd7aab07662f1fbecb96972c   \n",
       "42                   NaN  faac81c5896cb8383f5a61ad369a9f2e   \n",
       "\n",
       "    first_in_multiorder_flg                        courier_id  \\\n",
       "1                       NaN  8ed37467dc9b257b3b3bdc1bfebd9b28   \n",
       "2                       NaN  5b17547f825d9cf35c7853621dd842f8   \n",
       "26                      NaN  8bda86781f9ddbfbcaa331ffa1a6a2f4   \n",
       "35                      NaN  3d670955da9bac56e1b70527bf0c1fd8   \n",
       "42                      NaN  a1a49d95a762bff347b70f97997c0b03   \n",
       "\n",
       "    order_items_cnt                              city  day  hour  \\\n",
       "1                 8  e6705560085199e9674cd721ee844d0d   13    18   \n",
       "2                 1  e6705560085199e9674cd721ee844d0d   14     1   \n",
       "26               14  e6705560085199e9674cd721ee844d0d   14    15   \n",
       "35                4  e6705560085199e9674cd721ee844d0d   14    13   \n",
       "42                3  e6705560085199e9674cd721ee844d0d   14    13   \n",
       "\n",
       "                 tag_1_order_per_day  \n",
       "1   9b73035bb90cd7de4b9c1ff01e44f178  \n",
       "2   9b73035bb90cd7de4b9c1ff01e44f178  \n",
       "26  19676ec4336969140631e05236712394  \n",
       "35  9b73035bb90cd7de4b9c1ff01e44f178  \n",
       "42  9b73035bb90cd7de4b9c1ff01e44f178  "
      ]
     },
     "execution_count": 1816,
     "metadata": {},
     "output_type": "execute_result"
    }
   ],
   "source": [
    "dfA.head()"
   ]
  },
  {
   "cell_type": "code",
   "execution_count": 1817,
   "metadata": {},
   "outputs": [],
   "source": [
    "dfA_no_1 = dfA[dfA.tag_1_order_per_day != '1_order']"
   ]
  },
  {
   "cell_type": "code",
   "execution_count": 1818,
   "metadata": {},
   "outputs": [],
   "source": [
    "# отсортируем рестораны и даты\n",
    "\n",
    "dfA_no_1 = dfA_no_1.sort_values(by =['rest_id', 'order_created_datetime'])"
   ]
  },
  {
   "cell_type": "code",
   "execution_count": 1819,
   "metadata": {},
   "outputs": [],
   "source": [
    "# Определим время между заказами в одном ресторане в минутах\n",
    "\n",
    "time_delta = dfA_no_1.groupby('rest_id')['order_created_datetime'].diff()"
   ]
  },
  {
   "cell_type": "code",
   "execution_count": 1820,
   "metadata": {},
   "outputs": [],
   "source": [
    "time_delta = time_delta / np.timedelta64(1, 'm')"
   ]
  },
  {
   "cell_type": "code",
   "execution_count": 1821,
   "metadata": {},
   "outputs": [],
   "source": [
    "time_delta = time_delta.reset_index()\n",
    "\n",
    "time_delta.columns = ['index', 'time_delta']"
   ]
  },
  {
   "cell_type": "code",
   "execution_count": 1822,
   "metadata": {},
   "outputs": [
    {
     "data": {
      "text/html": [
       "<div>\n",
       "<style scoped>\n",
       "    .dataframe tbody tr th:only-of-type {\n",
       "        vertical-align: middle;\n",
       "    }\n",
       "\n",
       "    .dataframe tbody tr th {\n",
       "        vertical-align: top;\n",
       "    }\n",
       "\n",
       "    .dataframe thead th {\n",
       "        text-align: right;\n",
       "    }\n",
       "</style>\n",
       "<table border=\"1\" class=\"dataframe\">\n",
       "  <thead>\n",
       "    <tr style=\"text-align: right;\">\n",
       "      <th></th>\n",
       "      <th>index</th>\n",
       "      <th>time_delta</th>\n",
       "    </tr>\n",
       "  </thead>\n",
       "  <tbody>\n",
       "    <tr>\n",
       "      <td>0</td>\n",
       "      <td>25046</td>\n",
       "      <td>NaN</td>\n",
       "    </tr>\n",
       "    <tr>\n",
       "      <td>1</td>\n",
       "      <td>25225</td>\n",
       "      <td>11.383333</td>\n",
       "    </tr>\n",
       "    <tr>\n",
       "      <td>2</td>\n",
       "      <td>25294</td>\n",
       "      <td>18.733333</td>\n",
       "    </tr>\n",
       "    <tr>\n",
       "      <td>3</td>\n",
       "      <td>25007</td>\n",
       "      <td>3.750000</td>\n",
       "    </tr>\n",
       "    <tr>\n",
       "      <td>4</td>\n",
       "      <td>24839</td>\n",
       "      <td>18.533333</td>\n",
       "    </tr>\n",
       "    <tr>\n",
       "      <td>...</td>\n",
       "      <td>...</td>\n",
       "      <td>...</td>\n",
       "    </tr>\n",
       "    <tr>\n",
       "      <td>4866</td>\n",
       "      <td>30943</td>\n",
       "      <td>120.400000</td>\n",
       "    </tr>\n",
       "    <tr>\n",
       "      <td>4867</td>\n",
       "      <td>30878</td>\n",
       "      <td>78.166667</td>\n",
       "    </tr>\n",
       "    <tr>\n",
       "      <td>4868</td>\n",
       "      <td>30957</td>\n",
       "      <td>1215.516667</td>\n",
       "    </tr>\n",
       "    <tr>\n",
       "      <td>4869</td>\n",
       "      <td>31766</td>\n",
       "      <td>262.183333</td>\n",
       "    </tr>\n",
       "    <tr>\n",
       "      <td>4870</td>\n",
       "      <td>31548</td>\n",
       "      <td>810.566667</td>\n",
       "    </tr>\n",
       "  </tbody>\n",
       "</table>\n",
       "<p>4871 rows × 2 columns</p>\n",
       "</div>"
      ],
      "text/plain": [
       "      index   time_delta\n",
       "0     25046          NaN\n",
       "1     25225    11.383333\n",
       "2     25294    18.733333\n",
       "3     25007     3.750000\n",
       "4     24839    18.533333\n",
       "...     ...          ...\n",
       "4866  30943   120.400000\n",
       "4867  30878    78.166667\n",
       "4868  30957  1215.516667\n",
       "4869  31766   262.183333\n",
       "4870  31548   810.566667\n",
       "\n",
       "[4871 rows x 2 columns]"
      ]
     },
     "execution_count": 1822,
     "metadata": {},
     "output_type": "execute_result"
    }
   ],
   "source": [
    "time_delta"
   ]
  },
  {
   "cell_type": "code",
   "execution_count": 1823,
   "metadata": {},
   "outputs": [],
   "source": [
    "dfA_no_1 = dfA_no_1.reset_index()"
   ]
  },
  {
   "cell_type": "code",
   "execution_count": 1824,
   "metadata": {},
   "outputs": [],
   "source": [
    "dfA_no_1 = dfA_no_1.merge(time_delta, how = 'left', on = 'index')"
   ]
  },
  {
   "cell_type": "code",
   "execution_count": 1825,
   "metadata": {},
   "outputs": [
    {
     "data": {
      "text/html": [
       "<div>\n",
       "<style scoped>\n",
       "    .dataframe tbody tr th:only-of-type {\n",
       "        vertical-align: middle;\n",
       "    }\n",
       "\n",
       "    .dataframe tbody tr th {\n",
       "        vertical-align: top;\n",
       "    }\n",
       "\n",
       "    .dataframe thead th {\n",
       "        text-align: right;\n",
       "    }\n",
       "</style>\n",
       "<table border=\"1\" class=\"dataframe\">\n",
       "  <thead>\n",
       "    <tr style=\"text-align: right;\">\n",
       "      <th></th>\n",
       "      <th>index</th>\n",
       "      <th>order_created_datetime</th>\n",
       "      <th>brand_name</th>\n",
       "      <th>rest_id</th>\n",
       "      <th>batched_with_order_id</th>\n",
       "      <th>order_id</th>\n",
       "      <th>first_in_multiorder_flg</th>\n",
       "      <th>courier_id</th>\n",
       "      <th>order_items_cnt</th>\n",
       "      <th>city</th>\n",
       "      <th>day</th>\n",
       "      <th>hour</th>\n",
       "      <th>tag_1_order_per_day</th>\n",
       "      <th>time_delta</th>\n",
       "    </tr>\n",
       "  </thead>\n",
       "  <tbody>\n",
       "    <tr>\n",
       "      <td>0</td>\n",
       "      <td>25046</td>\n",
       "      <td>2015-09-13 11:24:24</td>\n",
       "      <td>A</td>\n",
       "      <td>03e61cfb9d3325c7c88accd2b3cfa2be</td>\n",
       "      <td>NaN</td>\n",
       "      <td>96abdf37ff71f3ab4cbb1cfcb43a9a3d</td>\n",
       "      <td>NaN</td>\n",
       "      <td>2af733d3c98db5226871a158d36d999d</td>\n",
       "      <td>1</td>\n",
       "      <td>e6705560085199e9674cd721ee844d0d</td>\n",
       "      <td>13</td>\n",
       "      <td>11</td>\n",
       "      <td>03e61cfb9d3325c7c88accd2b3cfa2be</td>\n",
       "      <td>NaN</td>\n",
       "    </tr>\n",
       "    <tr>\n",
       "      <td>1</td>\n",
       "      <td>25225</td>\n",
       "      <td>2015-09-13 11:35:47</td>\n",
       "      <td>A</td>\n",
       "      <td>03e61cfb9d3325c7c88accd2b3cfa2be</td>\n",
       "      <td>NaN</td>\n",
       "      <td>399ceb9a041df0a338ecdfcccd4309f4</td>\n",
       "      <td>NaN</td>\n",
       "      <td>2c836ec50a9e78259de02aff97fa0da9</td>\n",
       "      <td>6</td>\n",
       "      <td>e6705560085199e9674cd721ee844d0d</td>\n",
       "      <td>13</td>\n",
       "      <td>11</td>\n",
       "      <td>03e61cfb9d3325c7c88accd2b3cfa2be</td>\n",
       "      <td>11.383333</td>\n",
       "    </tr>\n",
       "    <tr>\n",
       "      <td>2</td>\n",
       "      <td>25294</td>\n",
       "      <td>2015-09-13 11:54:31</td>\n",
       "      <td>A</td>\n",
       "      <td>03e61cfb9d3325c7c88accd2b3cfa2be</td>\n",
       "      <td>e0c4053a9330db0c071077c417a186fc</td>\n",
       "      <td>87b092f55dca7eafdcfff64c80b22c89</td>\n",
       "      <td>1.0</td>\n",
       "      <td>4e3243405d91b074e142849272d56ea8</td>\n",
       "      <td>6</td>\n",
       "      <td>e6705560085199e9674cd721ee844d0d</td>\n",
       "      <td>13</td>\n",
       "      <td>11</td>\n",
       "      <td>03e61cfb9d3325c7c88accd2b3cfa2be</td>\n",
       "      <td>18.733333</td>\n",
       "    </tr>\n",
       "    <tr>\n",
       "      <td>3</td>\n",
       "      <td>25007</td>\n",
       "      <td>2015-09-13 11:58:16</td>\n",
       "      <td>A</td>\n",
       "      <td>03e61cfb9d3325c7c88accd2b3cfa2be</td>\n",
       "      <td>87b092f55dca7eafdcfff64c80b22c89</td>\n",
       "      <td>e0c4053a9330db0c071077c417a186fc</td>\n",
       "      <td>0.0</td>\n",
       "      <td>4e3243405d91b074e142849272d56ea8</td>\n",
       "      <td>4</td>\n",
       "      <td>e6705560085199e9674cd721ee844d0d</td>\n",
       "      <td>13</td>\n",
       "      <td>11</td>\n",
       "      <td>03e61cfb9d3325c7c88accd2b3cfa2be</td>\n",
       "      <td>3.750000</td>\n",
       "    </tr>\n",
       "    <tr>\n",
       "      <td>4</td>\n",
       "      <td>24839</td>\n",
       "      <td>2015-09-13 12:16:48</td>\n",
       "      <td>A</td>\n",
       "      <td>03e61cfb9d3325c7c88accd2b3cfa2be</td>\n",
       "      <td>NaN</td>\n",
       "      <td>2e34f208af9e41fd66cbf7b9d91c253a</td>\n",
       "      <td>NaN</td>\n",
       "      <td>2c836ec50a9e78259de02aff97fa0da9</td>\n",
       "      <td>5</td>\n",
       "      <td>e6705560085199e9674cd721ee844d0d</td>\n",
       "      <td>13</td>\n",
       "      <td>12</td>\n",
       "      <td>03e61cfb9d3325c7c88accd2b3cfa2be</td>\n",
       "      <td>18.533333</td>\n",
       "    </tr>\n",
       "  </tbody>\n",
       "</table>\n",
       "</div>"
      ],
      "text/plain": [
       "   index order_created_datetime brand_name                           rest_id  \\\n",
       "0  25046    2015-09-13 11:24:24          A  03e61cfb9d3325c7c88accd2b3cfa2be   \n",
       "1  25225    2015-09-13 11:35:47          A  03e61cfb9d3325c7c88accd2b3cfa2be   \n",
       "2  25294    2015-09-13 11:54:31          A  03e61cfb9d3325c7c88accd2b3cfa2be   \n",
       "3  25007    2015-09-13 11:58:16          A  03e61cfb9d3325c7c88accd2b3cfa2be   \n",
       "4  24839    2015-09-13 12:16:48          A  03e61cfb9d3325c7c88accd2b3cfa2be   \n",
       "\n",
       "              batched_with_order_id                          order_id  \\\n",
       "0                               NaN  96abdf37ff71f3ab4cbb1cfcb43a9a3d   \n",
       "1                               NaN  399ceb9a041df0a338ecdfcccd4309f4   \n",
       "2  e0c4053a9330db0c071077c417a186fc  87b092f55dca7eafdcfff64c80b22c89   \n",
       "3  87b092f55dca7eafdcfff64c80b22c89  e0c4053a9330db0c071077c417a186fc   \n",
       "4                               NaN  2e34f208af9e41fd66cbf7b9d91c253a   \n",
       "\n",
       "   first_in_multiorder_flg                        courier_id  order_items_cnt  \\\n",
       "0                      NaN  2af733d3c98db5226871a158d36d999d                1   \n",
       "1                      NaN  2c836ec50a9e78259de02aff97fa0da9                6   \n",
       "2                      1.0  4e3243405d91b074e142849272d56ea8                6   \n",
       "3                      0.0  4e3243405d91b074e142849272d56ea8                4   \n",
       "4                      NaN  2c836ec50a9e78259de02aff97fa0da9                5   \n",
       "\n",
       "                               city  day  hour  \\\n",
       "0  e6705560085199e9674cd721ee844d0d   13    11   \n",
       "1  e6705560085199e9674cd721ee844d0d   13    11   \n",
       "2  e6705560085199e9674cd721ee844d0d   13    11   \n",
       "3  e6705560085199e9674cd721ee844d0d   13    11   \n",
       "4  e6705560085199e9674cd721ee844d0d   13    12   \n",
       "\n",
       "                tag_1_order_per_day  time_delta  \n",
       "0  03e61cfb9d3325c7c88accd2b3cfa2be         NaN  \n",
       "1  03e61cfb9d3325c7c88accd2b3cfa2be   11.383333  \n",
       "2  03e61cfb9d3325c7c88accd2b3cfa2be   18.733333  \n",
       "3  03e61cfb9d3325c7c88accd2b3cfa2be    3.750000  \n",
       "4  03e61cfb9d3325c7c88accd2b3cfa2be   18.533333  "
      ]
     },
     "execution_count": 1825,
     "metadata": {},
     "output_type": "execute_result"
    }
   ],
   "source": [
    "dfA_no_1.head()"
   ]
  },
  {
   "cell_type": "code",
   "execution_count": 1826,
   "metadata": {},
   "outputs": [],
   "source": [
    "#dfA_no_1['time_delta'] = dfA_no_1['time_delta'].astype(float)\n",
    "dfA_no_1['time_delta'] = dfA_no_1['time_delta'].fillna(0)"
   ]
  },
  {
   "cell_type": "code",
   "execution_count": 1827,
   "metadata": {},
   "outputs": [
    {
     "name": "stdout",
     "output_type": "stream",
     "text": [
      "<class 'pandas.core.frame.DataFrame'>\n",
      "Int64Index: 4871 entries, 0 to 4870\n",
      "Data columns (total 14 columns):\n",
      "index                      4871 non-null int64\n",
      "order_created_datetime     4871 non-null datetime64[ns]\n",
      "brand_name                 4871 non-null object\n",
      "rest_id                    4871 non-null object\n",
      "batched_with_order_id      442 non-null object\n",
      "order_id                   4871 non-null object\n",
      "first_in_multiorder_flg    442 non-null float64\n",
      "courier_id                 4851 non-null object\n",
      "order_items_cnt            4871 non-null int64\n",
      "city                       4871 non-null object\n",
      "day                        4871 non-null int64\n",
      "hour                       4871 non-null int64\n",
      "tag_1_order_per_day        4871 non-null object\n",
      "time_delta                 4871 non-null float64\n",
      "dtypes: datetime64[ns](1), float64(2), int64(4), object(7)\n",
      "memory usage: 570.8+ KB\n"
     ]
    }
   ],
   "source": [
    "dfA_no_1.info()"
   ]
  },
  {
   "cell_type": "code",
   "execution_count": 1828,
   "metadata": {},
   "outputs": [],
   "source": [
    "# построим график рассеивания времени между заказами и количеством заказов для мультизаказов и для их отсуствия\n",
    "\n",
    "delta_timeA = dfA_no_1[dfA_no_1['batched_with_order_id'].isna() == False].groupby(['rest_id']).agg({'order_id': 'count', 'batched_with_order_id': 'count', 'time_delta': 'mean'}).reset_index()"
   ]
  },
  {
   "cell_type": "code",
   "execution_count": 1829,
   "metadata": {},
   "outputs": [
    {
     "data": {
      "text/html": [
       "<div>\n",
       "<style scoped>\n",
       "    .dataframe tbody tr th:only-of-type {\n",
       "        vertical-align: middle;\n",
       "    }\n",
       "\n",
       "    .dataframe tbody tr th {\n",
       "        vertical-align: top;\n",
       "    }\n",
       "\n",
       "    .dataframe thead th {\n",
       "        text-align: right;\n",
       "    }\n",
       "</style>\n",
       "<table border=\"1\" class=\"dataframe\">\n",
       "  <thead>\n",
       "    <tr style=\"text-align: right;\">\n",
       "      <th></th>\n",
       "      <th>rest_id</th>\n",
       "      <th>order_id</th>\n",
       "      <th>batched_with_order_id</th>\n",
       "      <th>time_delta</th>\n",
       "    </tr>\n",
       "  </thead>\n",
       "  <tbody>\n",
       "    <tr>\n",
       "      <td>0</td>\n",
       "      <td>03e61cfb9d3325c7c88accd2b3cfa2be</td>\n",
       "      <td>8</td>\n",
       "      <td>8</td>\n",
       "      <td>30.956250</td>\n",
       "    </tr>\n",
       "    <tr>\n",
       "      <td>1</td>\n",
       "      <td>05759cc0a86c0976b8e1dbe593bd22a0</td>\n",
       "      <td>2</td>\n",
       "      <td>2</td>\n",
       "      <td>50.008333</td>\n",
       "    </tr>\n",
       "    <tr>\n",
       "      <td>2</td>\n",
       "      <td>08720306483a428a1869df05b226f0db</td>\n",
       "      <td>4</td>\n",
       "      <td>4</td>\n",
       "      <td>112.991667</td>\n",
       "    </tr>\n",
       "    <tr>\n",
       "      <td>3</td>\n",
       "      <td>0ab71472311f386e7a527450a2912840</td>\n",
       "      <td>4</td>\n",
       "      <td>4</td>\n",
       "      <td>15.458333</td>\n",
       "    </tr>\n",
       "    <tr>\n",
       "      <td>4</td>\n",
       "      <td>123d69fd98bedf3de42693cb48e89333</td>\n",
       "      <td>4</td>\n",
       "      <td>4</td>\n",
       "      <td>18.520833</td>\n",
       "    </tr>\n",
       "  </tbody>\n",
       "</table>\n",
       "</div>"
      ],
      "text/plain": [
       "                            rest_id  order_id  batched_with_order_id  \\\n",
       "0  03e61cfb9d3325c7c88accd2b3cfa2be         8                      8   \n",
       "1  05759cc0a86c0976b8e1dbe593bd22a0         2                      2   \n",
       "2  08720306483a428a1869df05b226f0db         4                      4   \n",
       "3  0ab71472311f386e7a527450a2912840         4                      4   \n",
       "4  123d69fd98bedf3de42693cb48e89333         4                      4   \n",
       "\n",
       "   time_delta  \n",
       "0   30.956250  \n",
       "1   50.008333  \n",
       "2  112.991667  \n",
       "3   15.458333  \n",
       "4   18.520833  "
      ]
     },
     "execution_count": 1829,
     "metadata": {},
     "output_type": "execute_result"
    }
   ],
   "source": [
    "delta_timeA.head()"
   ]
  },
  {
   "cell_type": "code",
   "execution_count": 1830,
   "metadata": {},
   "outputs": [
    {
     "data": {
      "text/plain": [
       "<matplotlib.collections.PathCollection at 0x198fd524b08>"
      ]
     },
     "execution_count": 1830,
     "metadata": {},
     "output_type": "execute_result"
    },
    {
     "data": {
      "image/png": "[encoded data removed]",
      "text/plain": [
       "<Figure size 432x288 with 1 Axes>"
      ]
     },
     "metadata": {
      "needs_background": "light"
     },
     "output_type": "display_data"
    }
   ],
   "source": [
    "plt.scatter(delta_timeA.order_id, delta_timeA.time_delta)"
   ]
  },
  {
   "cell_type": "code",
   "execution_count": 1831,
   "metadata": {},
   "outputs": [],
   "source": [
    "delta_timeA = dfA_no_1[dfA_no_1['batched_with_order_id'].isna() == True].groupby(['rest_id']).agg({'order_id': 'count', 'batched_with_order_id': 'count', 'time_delta': 'mean'}).reset_index()"
   ]
  },
  {
   "cell_type": "code",
   "execution_count": 1832,
   "metadata": {},
   "outputs": [
    {
     "data": {
      "text/plain": [
       "<matplotlib.collections.PathCollection at 0x1988130b608>"
      ]
     },
     "execution_count": 1832,
     "metadata": {},
     "output_type": "execute_result"
    },
    {
     "data": {
      "image/png": "[encoded data removed]",
      "text/plain": [
       "<Figure size 432x288 with 1 Axes>"
      ]
     },
     "metadata": {
      "needs_background": "light"
     },
     "output_type": "display_data"
    }
   ],
   "source": [
    "plt.scatter(delta_timeA.order_id, delta_timeA.time_delta)"
   ]
  },
  {
   "cell_type": "markdown",
   "metadata": {},
   "source": [
    "Вывод\n",
    "------\n",
    " \n",
    " Видно, что количество времени между заказами оказывает воздействие на то, что будет мультизаказ или нет. "
   ]
  },
  {
   "cell_type": "markdown",
   "metadata": {},
   "source": [
    "# 6.Проверим как распределяются с количеством блюд в одном заказе"
   ]
  },
  {
   "cell_type": "code",
   "execution_count": 1833,
   "metadata": {},
   "outputs": [],
   "source": [
    "# сгрупируем как влияет взаимосвязаны количество блюд в заказе, на количество таких заказов и количество мультизаказов\n",
    "\n",
    "order_items_cntA = dfA.groupby(['rest_id', 'order_items_cnt']).agg({'order_id': 'count', 'batched_with_order_id': 'count'})\n",
    "\n",
    "order_items_cntA['share'] = order_items_cntA['batched_with_order_id'] / order_items_cntA['order_id']"
   ]
  },
  {
   "cell_type": "code",
   "execution_count": 1834,
   "metadata": {},
   "outputs": [],
   "source": [
    "order_items_cntA = order_items_cntA.reset_index()"
   ]
  },
  {
   "cell_type": "code",
   "execution_count": 1835,
   "metadata": {},
   "outputs": [
    {
     "data": {
      "text/plain": [
       "<matplotlib.collections.PathCollection at 0x19887a6cc88>"
      ]
     },
     "execution_count": 1835,
     "metadata": {},
     "output_type": "execute_result"
    },
    {
     "data": {
      "image/png": "[encoded data removed]",
      "text/plain": [
       "<Figure size 432x288 with 1 Axes>"
      ]
     },
     "metadata": {
      "needs_background": "light"
     },
     "output_type": "display_data"
    }
   ],
   "source": [
    "plt.scatter(order_items_cntA.share, order_items_cntA.order_items_cnt)"
   ]
  },
  {
   "cell_type": "markdown",
   "metadata": {},
   "source": [
    "Вывод\n",
    "------\n",
    "\n",
    "Количество блюд в заказе существенно не влияют на количество выполняемых мультизаказов"
   ]
  },
  {
   "cell_type": "markdown",
   "metadata": {},
   "source": [
    "# Вывод по разделу:\n",
    "\n",
    "В ходе анализа было выявлено, что на наличие или отсуствие мультизаказа влияют:\n",
    "   - количество заказов в сутки, которые приходят в ресторан;\n",
    "   - количество заказов которые выполняет 1 курьер;\n",
    "   - количество времени в минутах между заказами;"
   ]
  },
  {
   "cell_type": "markdown",
   "metadata": {},
   "source": [
    "# Подготовим и обучим модель"
   ]
  },
  {
   "cell_type": "markdown",
   "metadata": {},
   "source": [
    "В качестве характеристик модели будут:\n",
    "    - Среднее дневное количество заказов, выполняемых курьером\n",
    "    - Среднее дневное количество закзаов, выполняемых в ресторане\n",
    "    - Время между заказами в рамках одного ресторана.\n",
    "\n",
    "В качестве целевой функции будем использовать относится ли данный заказ к мультизакзау или нет\n",
    "\n",
    "В качестве модели будем использовать логистическую регрессию"
   ]
  },
  {
   "cell_type": "code",
   "execution_count": 1836,
   "metadata": {},
   "outputs": [],
   "source": [
    "# сортируем данные для торговой марки А в разрезе рестаранов и даты\n",
    "\n",
    "dfA = dfA.sort_values(by=['rest_id', 'order_created_datetime'])"
   ]
  },
  {
   "cell_type": "code",
   "execution_count": 1837,
   "metadata": {},
   "outputs": [],
   "source": [
    "# заполняем пропуски по курьерам\n",
    "\n",
    "dfA['courier_id'] = dfA['courier_id'].fillna(dfA['courier_id'].value_counts().index[0])"
   ]
  },
  {
   "cell_type": "code",
   "execution_count": 1838,
   "metadata": {},
   "outputs": [],
   "source": [
    "# определяем время между заказами в разрезе рестаранов в минутах\n",
    "\n",
    "deltatime = dfA.groupby('rest_id')['order_created_datetime'].diff().reset_index()\n",
    "\n",
    "deltatime.columns = ['index', 'deltatime']\n",
    "\n",
    "deltatime['deltatime'] = deltatime['deltatime'] / np.timedelta64(1, 'm')\n"
   ]
  },
  {
   "cell_type": "code",
   "execution_count": 1839,
   "metadata": {},
   "outputs": [],
   "source": [
    "dfA = dfA.reset_index()"
   ]
  },
  {
   "cell_type": "code",
   "execution_count": 1840,
   "metadata": {},
   "outputs": [],
   "source": [
    "dfA = dfA.merge(deltatime, how = 'left', on='index')"
   ]
  },
  {
   "cell_type": "code",
   "execution_count": 1841,
   "metadata": {},
   "outputs": [],
   "source": [
    "dfA['deltatime'] = dfA['deltatime'].fillna(0)"
   ]
  },
  {
   "cell_type": "code",
   "execution_count": 1842,
   "metadata": {},
   "outputs": [],
   "source": [
    "# создаем словарь для определния среднедневного количества заказов для ресторанов\n",
    "\n",
    "dict_rest = dfA.groupby(['rest_id', 'day']).agg({'order_id': 'count'}).reset_index()\n",
    "\n",
    "dict_rest = dict_rest.groupby('rest_id').agg({'order_id': 'median'})"
   ]
  },
  {
   "cell_type": "code",
   "execution_count": 1843,
   "metadata": {},
   "outputs": [],
   "source": [
    "# создаем словарь для определения количества выполненных заказов курьерами\n",
    "\n",
    "dict_courier = dfA.groupby(['courier_id', 'day']).agg({'order_id': 'count'}).reset_index()\n",
    "\n",
    "dict_courier = dict_courier.groupby('courier_id').agg({'order_id': 'median'})"
   ]
  },
  {
   "cell_type": "code",
   "execution_count": 1844,
   "metadata": {},
   "outputs": [],
   "source": [
    "# создаем новые признаки для прогноза\n",
    "\n",
    "dfA['count_rest_order'] = dfA.apply(lambda row: dict_rest.loc[row['rest_id']]['order_id'], axis = 1)\n",
    "\n",
    "dfA['count_courier_order'] = dfA.apply(lambda row: dict_courier.loc[row['courier_id']]['order_id'], axis = 1)"
   ]
  },
  {
   "cell_type": "code",
   "execution_count": 1845,
   "metadata": {},
   "outputs": [],
   "source": [
    "# создаем прогнозируемый признак\n",
    "\n",
    "dfA['target'] = dfA['batched_with_order_id'].isna()\n",
    "\n",
    "dfA['target'] = dfA['target'].apply(lambda x: 1 if x == False else 0)"
   ]
  },
  {
   "cell_type": "code",
   "execution_count": 1846,
   "metadata": {},
   "outputs": [],
   "source": [
    "X = dfA[['deltatime', 'count_rest_order', 'count_courier_order']]\n",
    "\n",
    "y = dfA['target']"
   ]
  },
  {
   "cell_type": "code",
   "execution_count": 1847,
   "metadata": {},
   "outputs": [
    {
     "name": "stderr",
     "output_type": "stream",
     "text": [
      "C:\\Users\\User\\Anaconda3\\lib\\site-packages\\sklearn\\linear_model\\logistic.py:432: FutureWarning: Default solver will be changed to 'lbfgs' in 0.22. Specify a solver to silence this warning.\n",
      "  FutureWarning)\n"
     ]
    },
    {
     "data": {
      "text/plain": [
       "LogisticRegression(C=1.0, class_weight=None, dual=False, fit_intercept=True,\n",
       "                   intercept_scaling=1, l1_ratio=None, max_iter=100,\n",
       "                   multi_class='warn', n_jobs=None, penalty='l2',\n",
       "                   random_state=12345, solver='warn', tol=0.0001, verbose=0,\n",
       "                   warm_start=False)"
      ]
     },
     "execution_count": 1847,
     "metadata": {},
     "output_type": "execute_result"
    }
   ],
   "source": [
    "# на базе логистической регрессии создаем модель и обучаем ее\n",
    "\n",
    "model = LogisticRegression(random_state=12345)\n",
    "\n",
    "model.fit(X, y)"
   ]
  },
  {
   "cell_type": "markdown",
   "metadata": {},
   "source": [
    "# Подготовим данные для прогноза на основе данных ресторана B и составим прогноз"
   ]
  },
  {
   "cell_type": "code",
   "execution_count": 1848,
   "metadata": {},
   "outputs": [],
   "source": [
    "# Выделяем DF с ресторанами бренда B\n",
    "\n",
    "dfB = df[df.brand_name == 'B']"
   ]
  },
  {
   "cell_type": "code",
   "execution_count": 1849,
   "metadata": {},
   "outputs": [],
   "source": [
    "# Сортируем данные в разрезе город, ресторан, даты заказов\n",
    "\n",
    "dfB = dfB.sort_values(by=['city', 'rest_id', 'order_created_datetime'])"
   ]
  },
  {
   "cell_type": "code",
   "execution_count": 1850,
   "metadata": {},
   "outputs": [],
   "source": [
    "# заполняем пропуски 0\n",
    "\n",
    "dfB.batched_with_order_id = dfB.batched_with_order_id.fillna(0)\n",
    "\n",
    "dfB.first_in_multiorder_flg = dfB.first_in_multiorder_flg.fillna(0)"
   ]
  },
  {
   "cell_type": "code",
   "execution_count": 1851,
   "metadata": {},
   "outputs": [],
   "source": [
    "# удаляем пропуски курьеров\n",
    "\n",
    "dfB = dfB.dropna()"
   ]
  },
  {
   "cell_type": "code",
   "execution_count": 1852,
   "metadata": {},
   "outputs": [],
   "source": [
    "# определяем время между заказами в разрезе города, ресторана в минутах\n",
    "\n",
    "deltatime = dfB.groupby(['city', 'rest_id'])['order_created_datetime'].diff().reset_index()\n",
    "\n",
    "deltatime.columns = ['index', 'deltatime']\n",
    "\n",
    "deltatime['deltatime'] = deltatime['deltatime'] / np.timedelta64(1, 'm')"
   ]
  },
  {
   "cell_type": "code",
   "execution_count": 1853,
   "metadata": {},
   "outputs": [],
   "source": [
    "dfB = dfB.reset_index()"
   ]
  },
  {
   "cell_type": "code",
   "execution_count": 1854,
   "metadata": {},
   "outputs": [],
   "source": [
    "dfB = dfB.merge(deltatime, how = 'left', on='index')"
   ]
  },
  {
   "cell_type": "code",
   "execution_count": 1855,
   "metadata": {},
   "outputs": [],
   "source": [
    "dfB['deltatime'] = dfB['deltatime'].fillna(0)"
   ]
  },
  {
   "cell_type": "code",
   "execution_count": 1856,
   "metadata": {},
   "outputs": [],
   "source": [
    "# Создаем словарь количества заказов в разрезе города, ресторана в день\n",
    "\n",
    "dict_rest = dfB.groupby(['city', 'rest_id','day']).agg({'order_id': 'count'}).reset_index()\n",
    "\n",
    "dict_rest = dict_rest.groupby('rest_id').agg({'order_id': 'median'})"
   ]
  },
  {
   "cell_type": "code",
   "execution_count": 1857,
   "metadata": {},
   "outputs": [],
   "source": [
    "# создаем словарь для определения среднего количества выполненых заказов курьером в день\n",
    "\n",
    "dict_courier = dfB.groupby(['city', 'courier_id', 'day']).agg({'order_id': 'count'}).reset_index()\n",
    "\n",
    "dict_courier = dict_courier.groupby('courier_id').agg({'order_id': 'median'})"
   ]
  },
  {
   "cell_type": "code",
   "execution_count": 1858,
   "metadata": {},
   "outputs": [],
   "source": [
    "# создаем новые признаки \n",
    "\n",
    "dfB['count_rest_order'] = dfB.apply(lambda row: dict_rest.loc[row['rest_id']]['order_id'], axis = 1)\n",
    "\n",
    "dfB['count_courier_order'] = dfB.apply(lambda row: dict_courier.loc[row['courier_id']]['order_id'], axis = 1)"
   ]
  },
  {
   "cell_type": "code",
   "execution_count": 1859,
   "metadata": {},
   "outputs": [],
   "source": [
    "X_valid = dfB[['deltatime', 'count_rest_order', 'count_courier_order']]"
   ]
  },
  {
   "cell_type": "code",
   "execution_count": 1860,
   "metadata": {},
   "outputs": [],
   "source": [
    "# составляем прогноз\n",
    "\n",
    "predict = model.predict(X_valid)"
   ]
  },
  {
   "cell_type": "code",
   "execution_count": 1861,
   "metadata": {},
   "outputs": [
    {
     "data": {
      "text/plain": [
       "array([[-0.00256357,  0.01935715, -0.03857581]])"
      ]
     },
     "execution_count": 1861,
     "metadata": {},
     "output_type": "execute_result"
    }
   ],
   "source": [
    "# определяем коэффициенты для модели\n",
    "\n",
    "model.coef_"
   ]
  },
  {
   "cell_type": "code",
   "execution_count": 1862,
   "metadata": {},
   "outputs": [
    {
     "data": {
      "text/plain": [
       "6.63"
      ]
     },
     "execution_count": 1862,
     "metadata": {},
     "output_type": "execute_result"
    }
   ],
   "source": [
    "# определяем долю мультизаказов\n",
    "\n",
    "round (100 * (predict.sum() / len(predict)), 2)"
   ]
  },
  {
   "cell_type": "markdown",
   "metadata": {},
   "source": [
    "Вывод\n",
    "------\n",
    "\n",
    "  Таким образом для ресторанов бренда B получился результат __6.63%__ заказов относится к мультизаказам"
   ]
  },
  {
   "cell_type": "code",
   "execution_count": 1863,
   "metadata": {},
   "outputs": [
    {
     "data": {
      "text/html": [
       "<div>\n",
       "<style scoped>\n",
       "    .dataframe tbody tr th:only-of-type {\n",
       "        vertical-align: middle;\n",
       "    }\n",
       "\n",
       "    .dataframe tbody tr th {\n",
       "        vertical-align: top;\n",
       "    }\n",
       "\n",
       "    .dataframe thead th {\n",
       "        text-align: right;\n",
       "    }\n",
       "</style>\n",
       "<table border=\"1\" class=\"dataframe\">\n",
       "  <thead>\n",
       "    <tr style=\"text-align: right;\">\n",
       "      <th></th>\n",
       "      <th>order_created_datetime</th>\n",
       "      <th>brand_name</th>\n",
       "      <th>rest_id</th>\n",
       "      <th>batched_with_order_id</th>\n",
       "      <th>order_id</th>\n",
       "      <th>first_in_multiorder_flg</th>\n",
       "      <th>courier_id</th>\n",
       "      <th>order_items_cnt</th>\n",
       "      <th>city</th>\n",
       "      <th>day</th>\n",
       "      <th>hour</th>\n",
       "    </tr>\n",
       "  </thead>\n",
       "  <tbody>\n",
       "    <tr>\n",
       "      <td>0</td>\n",
       "      <td>2015-09-15 21:08:43</td>\n",
       "      <td>B</td>\n",
       "      <td>7cc98331ddb8ccffe464455f3df763d9</td>\n",
       "      <td>NaN</td>\n",
       "      <td>0b6f25c79b35fd1e6d28d845b7ee511d</td>\n",
       "      <td>NaN</td>\n",
       "      <td>3f1b96f620988a92d3409ea05e87bd36</td>\n",
       "      <td>3</td>\n",
       "      <td>c6fbacc5cab7e134c9db2a4bbfcc5b64</td>\n",
       "      <td>15</td>\n",
       "      <td>21</td>\n",
       "    </tr>\n",
       "    <tr>\n",
       "      <td>1</td>\n",
       "      <td>2015-09-13 18:40:12</td>\n",
       "      <td>A</td>\n",
       "      <td>9b73035bb90cd7de4b9c1ff01e44f178</td>\n",
       "      <td>NaN</td>\n",
       "      <td>793f2fa9aa3d52d2da05caa3c30cb77e</td>\n",
       "      <td>NaN</td>\n",
       "      <td>8ed37467dc9b257b3b3bdc1bfebd9b28</td>\n",
       "      <td>8</td>\n",
       "      <td>e6705560085199e9674cd721ee844d0d</td>\n",
       "      <td>13</td>\n",
       "      <td>18</td>\n",
       "    </tr>\n",
       "    <tr>\n",
       "      <td>2</td>\n",
       "      <td>2015-09-14 01:52:40</td>\n",
       "      <td>A</td>\n",
       "      <td>9b73035bb90cd7de4b9c1ff01e44f178</td>\n",
       "      <td>NaN</td>\n",
       "      <td>b6c5ec927a3e314b0900c103a0cd68fa</td>\n",
       "      <td>NaN</td>\n",
       "      <td>5b17547f825d9cf35c7853621dd842f8</td>\n",
       "      <td>1</td>\n",
       "      <td>e6705560085199e9674cd721ee844d0d</td>\n",
       "      <td>14</td>\n",
       "      <td>1</td>\n",
       "    </tr>\n",
       "    <tr>\n",
       "      <td>3</td>\n",
       "      <td>2015-09-13 17:23:52</td>\n",
       "      <td>B</td>\n",
       "      <td>7cc98331ddb8ccffe464455f3df763d9</td>\n",
       "      <td>NaN</td>\n",
       "      <td>5dc658f0928569dbefac74c9f311031c</td>\n",
       "      <td>NaN</td>\n",
       "      <td>81647a72700bd46635d9606082360cc8</td>\n",
       "      <td>6</td>\n",
       "      <td>c6fbacc5cab7e134c9db2a4bbfcc5b64</td>\n",
       "      <td>13</td>\n",
       "      <td>17</td>\n",
       "    </tr>\n",
       "    <tr>\n",
       "      <td>4</td>\n",
       "      <td>2015-09-13 11:15:05</td>\n",
       "      <td>B</td>\n",
       "      <td>7cc98331ddb8ccffe464455f3df763d9</td>\n",
       "      <td>NaN</td>\n",
       "      <td>3da09410aeab781baf4b7039fc9b125c</td>\n",
       "      <td>NaN</td>\n",
       "      <td>065c18216b6d3369d4cc36418c6e80f2</td>\n",
       "      <td>7</td>\n",
       "      <td>c6fbacc5cab7e134c9db2a4bbfcc5b64</td>\n",
       "      <td>13</td>\n",
       "      <td>11</td>\n",
       "    </tr>\n",
       "  </tbody>\n",
       "</table>\n",
       "</div>"
      ],
      "text/plain": [
       "  order_created_datetime brand_name                           rest_id  \\\n",
       "0    2015-09-15 21:08:43          B  7cc98331ddb8ccffe464455f3df763d9   \n",
       "1    2015-09-13 18:40:12          A  9b73035bb90cd7de4b9c1ff01e44f178   \n",
       "2    2015-09-14 01:52:40          A  9b73035bb90cd7de4b9c1ff01e44f178   \n",
       "3    2015-09-13 17:23:52          B  7cc98331ddb8ccffe464455f3df763d9   \n",
       "4    2015-09-13 11:15:05          B  7cc98331ddb8ccffe464455f3df763d9   \n",
       "\n",
       "  batched_with_order_id                          order_id  \\\n",
       "0                   NaN  0b6f25c79b35fd1e6d28d845b7ee511d   \n",
       "1                   NaN  793f2fa9aa3d52d2da05caa3c30cb77e   \n",
       "2                   NaN  b6c5ec927a3e314b0900c103a0cd68fa   \n",
       "3                   NaN  5dc658f0928569dbefac74c9f311031c   \n",
       "4                   NaN  3da09410aeab781baf4b7039fc9b125c   \n",
       "\n",
       "   first_in_multiorder_flg                        courier_id  order_items_cnt  \\\n",
       "0                      NaN  3f1b96f620988a92d3409ea05e87bd36                3   \n",
       "1                      NaN  8ed37467dc9b257b3b3bdc1bfebd9b28                8   \n",
       "2                      NaN  5b17547f825d9cf35c7853621dd842f8                1   \n",
       "3                      NaN  81647a72700bd46635d9606082360cc8                6   \n",
       "4                      NaN  065c18216b6d3369d4cc36418c6e80f2                7   \n",
       "\n",
       "                               city  day  hour  \n",
       "0  c6fbacc5cab7e134c9db2a4bbfcc5b64   15    21  \n",
       "1  e6705560085199e9674cd721ee844d0d   13    18  \n",
       "2  e6705560085199e9674cd721ee844d0d   14     1  \n",
       "3  c6fbacc5cab7e134c9db2a4bbfcc5b64   13    17  \n",
       "4  c6fbacc5cab7e134c9db2a4bbfcc5b64   13    11  "
      ]
     },
     "execution_count": 1863,
     "metadata": {},
     "output_type": "execute_result"
    }
   ],
   "source": [
    "df.head()"
   ]
  },
  {
   "cell_type": "code",
   "execution_count": 1870,
   "metadata": {},
   "outputs": [
    {
     "data": {
      "text/plain": [
       "count    18073.000000\n",
       "mean         3.663033\n",
       "std          5.246122\n",
       "min          1.000000\n",
       "25%          1.000000\n",
       "50%          3.000000\n",
       "75%          5.000000\n",
       "max        282.000000\n",
       "Name: order_id, dtype: float64"
      ]
     },
     "execution_count": 1870,
     "metadata": {},
     "output_type": "execute_result"
    }
   ],
   "source": [
    "df.groupby(['courier_id', 'day']).agg({'order_id': 'count'})['order_id'].describe()"
   ]
  },
  {
   "cell_type": "code",
   "execution_count": null,
   "metadata": {},
   "outputs": [],
   "source": []
  }
 ],
 "metadata": {
  "kernelspec": {
   "display_name": "Python 3",
   "language": "python",
   "name": "python3"
  },
  "language_info": {
   "codemirror_mode": {
    "name": "ipython",
    "version": 3
   },
   "file_extension": ".py",
   "mimetype": "text/x-python",
   "name": "python",
   "nbconvert_exporter": "python",
   "pygments_lexer": "ipython3",
   "version": "3.7.4"
  }
 },
 "nbformat": 4,
 "nbformat_minor": 2
}
